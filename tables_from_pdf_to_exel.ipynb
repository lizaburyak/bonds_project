{
  "nbformat": 4,
  "nbformat_minor": 0,
  "metadata": {
    "colab": {
      "provenance": []
    },
    "kernelspec": {
      "name": "python3",
      "display_name": "Python 3"
    },
    "language_info": {
      "name": "python"
    }
  },
  "cells": [
    {
      "cell_type": "code",
      "execution_count": null,
      "metadata": {
        "colab": {
          "base_uri": "https://localhost:8080/",
          "height": 545
        },
        "id": "UrBZk9C1swB3",
        "outputId": "528bf073-0978-4f69-a88f-49723edea78d"
      },
      "outputs": [
        {
          "output_type": "stream",
          "name": "stdout",
          "text": [
            "Access denied with the following error:\n"
          ]
        },
        {
          "output_type": "stream",
          "name": "stderr",
          "text": [
            "\n",
            " \tCannot retrieve the public link of the file. You may need to change\n",
            "\tthe permission to 'Anyone with the link', or have had many accesses. \n",
            "\n",
            "You may still be able to access the file from the browser:\n",
            "\n",
            "\t https://drive.google.com/uc?id=FILE_ID \n",
            "\n"
          ]
        },
        {
          "output_type": "error",
          "ename": "FileNotFoundError",
          "evalue": "ignored",
          "traceback": [
            "\u001b[0;31m---------------------------------------------------------------------------\u001b[0m",
            "\u001b[0;31mFileNotFoundError\u001b[0m                         Traceback (most recent call last)",
            "\u001b[0;32m<ipython-input-2-37873d9158e0>\u001b[0m in \u001b[0;36m<cell line: 10>\u001b[0;34m()\u001b[0m\n\u001b[1;32m      8\u001b[0m \u001b[0;34m\u001b[0m\u001b[0m\n\u001b[1;32m      9\u001b[0m \u001b[0;31m# read the Excel file into a data frame\u001b[0m\u001b[0;34m\u001b[0m\u001b[0;34m\u001b[0m\u001b[0m\n\u001b[0;32m---> 10\u001b[0;31m \u001b[0mdf\u001b[0m \u001b[0;34m=\u001b[0m \u001b[0mpd\u001b[0m\u001b[0;34m.\u001b[0m\u001b[0mread_excel\u001b[0m\u001b[0;34m(\u001b[0m\u001b[0moutput\u001b[0m\u001b[0;34m)\u001b[0m\u001b[0;34m\u001b[0m\u001b[0;34m\u001b[0m\u001b[0m\n\u001b[0m\u001b[1;32m     11\u001b[0m \u001b[0;34m\u001b[0m\u001b[0m\n\u001b[1;32m     12\u001b[0m \u001b[0;31m# print the data frame\u001b[0m\u001b[0;34m\u001b[0m\u001b[0;34m\u001b[0m\u001b[0m\n",
            "\u001b[0;32m/usr/local/lib/python3.9/dist-packages/pandas/util/_decorators.py\u001b[0m in \u001b[0;36mwrapper\u001b[0;34m(*args, **kwargs)\u001b[0m\n\u001b[1;32m    209\u001b[0m                 \u001b[0;32melse\u001b[0m\u001b[0;34m:\u001b[0m\u001b[0;34m\u001b[0m\u001b[0;34m\u001b[0m\u001b[0m\n\u001b[1;32m    210\u001b[0m                     \u001b[0mkwargs\u001b[0m\u001b[0;34m[\u001b[0m\u001b[0mnew_arg_name\u001b[0m\u001b[0;34m]\u001b[0m \u001b[0;34m=\u001b[0m \u001b[0mnew_arg_value\u001b[0m\u001b[0;34m\u001b[0m\u001b[0;34m\u001b[0m\u001b[0m\n\u001b[0;32m--> 211\u001b[0;31m             \u001b[0;32mreturn\u001b[0m \u001b[0mfunc\u001b[0m\u001b[0;34m(\u001b[0m\u001b[0;34m*\u001b[0m\u001b[0margs\u001b[0m\u001b[0;34m,\u001b[0m \u001b[0;34m**\u001b[0m\u001b[0mkwargs\u001b[0m\u001b[0;34m)\u001b[0m\u001b[0;34m\u001b[0m\u001b[0;34m\u001b[0m\u001b[0m\n\u001b[0m\u001b[1;32m    212\u001b[0m \u001b[0;34m\u001b[0m\u001b[0m\n\u001b[1;32m    213\u001b[0m         \u001b[0;32mreturn\u001b[0m \u001b[0mcast\u001b[0m\u001b[0;34m(\u001b[0m\u001b[0mF\u001b[0m\u001b[0;34m,\u001b[0m \u001b[0mwrapper\u001b[0m\u001b[0;34m)\u001b[0m\u001b[0;34m\u001b[0m\u001b[0;34m\u001b[0m\u001b[0m\n",
            "\u001b[0;32m/usr/local/lib/python3.9/dist-packages/pandas/util/_decorators.py\u001b[0m in \u001b[0;36mwrapper\u001b[0;34m(*args, **kwargs)\u001b[0m\n\u001b[1;32m    329\u001b[0m                     \u001b[0mstacklevel\u001b[0m\u001b[0;34m=\u001b[0m\u001b[0mfind_stack_level\u001b[0m\u001b[0;34m(\u001b[0m\u001b[0;34m)\u001b[0m\u001b[0;34m,\u001b[0m\u001b[0;34m\u001b[0m\u001b[0;34m\u001b[0m\u001b[0m\n\u001b[1;32m    330\u001b[0m                 )\n\u001b[0;32m--> 331\u001b[0;31m             \u001b[0;32mreturn\u001b[0m \u001b[0mfunc\u001b[0m\u001b[0;34m(\u001b[0m\u001b[0;34m*\u001b[0m\u001b[0margs\u001b[0m\u001b[0;34m,\u001b[0m \u001b[0;34m**\u001b[0m\u001b[0mkwargs\u001b[0m\u001b[0;34m)\u001b[0m\u001b[0;34m\u001b[0m\u001b[0;34m\u001b[0m\u001b[0m\n\u001b[0m\u001b[1;32m    332\u001b[0m \u001b[0;34m\u001b[0m\u001b[0m\n\u001b[1;32m    333\u001b[0m         \u001b[0;31m# error: \"Callable[[VarArg(Any), KwArg(Any)], Any]\" has no\u001b[0m\u001b[0;34m\u001b[0m\u001b[0;34m\u001b[0m\u001b[0m\n",
            "\u001b[0;32m/usr/local/lib/python3.9/dist-packages/pandas/io/excel/_base.py\u001b[0m in \u001b[0;36mread_excel\u001b[0;34m(io, sheet_name, header, names, index_col, usecols, squeeze, dtype, engine, converters, true_values, false_values, skiprows, nrows, na_values, keep_default_na, na_filter, verbose, parse_dates, date_parser, thousands, decimal, comment, skipfooter, convert_float, mangle_dupe_cols, storage_options)\u001b[0m\n\u001b[1;32m    480\u001b[0m     \u001b[0;32mif\u001b[0m \u001b[0;32mnot\u001b[0m \u001b[0misinstance\u001b[0m\u001b[0;34m(\u001b[0m\u001b[0mio\u001b[0m\u001b[0;34m,\u001b[0m \u001b[0mExcelFile\u001b[0m\u001b[0;34m)\u001b[0m\u001b[0;34m:\u001b[0m\u001b[0;34m\u001b[0m\u001b[0;34m\u001b[0m\u001b[0m\n\u001b[1;32m    481\u001b[0m         \u001b[0mshould_close\u001b[0m \u001b[0;34m=\u001b[0m \u001b[0;32mTrue\u001b[0m\u001b[0;34m\u001b[0m\u001b[0;34m\u001b[0m\u001b[0m\n\u001b[0;32m--> 482\u001b[0;31m         \u001b[0mio\u001b[0m \u001b[0;34m=\u001b[0m \u001b[0mExcelFile\u001b[0m\u001b[0;34m(\u001b[0m\u001b[0mio\u001b[0m\u001b[0;34m,\u001b[0m \u001b[0mstorage_options\u001b[0m\u001b[0;34m=\u001b[0m\u001b[0mstorage_options\u001b[0m\u001b[0;34m,\u001b[0m \u001b[0mengine\u001b[0m\u001b[0;34m=\u001b[0m\u001b[0mengine\u001b[0m\u001b[0;34m)\u001b[0m\u001b[0;34m\u001b[0m\u001b[0;34m\u001b[0m\u001b[0m\n\u001b[0m\u001b[1;32m    483\u001b[0m     \u001b[0;32melif\u001b[0m \u001b[0mengine\u001b[0m \u001b[0;32mand\u001b[0m \u001b[0mengine\u001b[0m \u001b[0;34m!=\u001b[0m \u001b[0mio\u001b[0m\u001b[0;34m.\u001b[0m\u001b[0mengine\u001b[0m\u001b[0;34m:\u001b[0m\u001b[0;34m\u001b[0m\u001b[0;34m\u001b[0m\u001b[0m\n\u001b[1;32m    484\u001b[0m         raise ValueError(\n",
            "\u001b[0;32m/usr/local/lib/python3.9/dist-packages/pandas/io/excel/_base.py\u001b[0m in \u001b[0;36m__init__\u001b[0;34m(self, path_or_buffer, engine, storage_options)\u001b[0m\n\u001b[1;32m   1650\u001b[0m                 \u001b[0mext\u001b[0m \u001b[0;34m=\u001b[0m \u001b[0;34m\"xls\"\u001b[0m\u001b[0;34m\u001b[0m\u001b[0;34m\u001b[0m\u001b[0m\n\u001b[1;32m   1651\u001b[0m             \u001b[0;32melse\u001b[0m\u001b[0;34m:\u001b[0m\u001b[0;34m\u001b[0m\u001b[0;34m\u001b[0m\u001b[0m\n\u001b[0;32m-> 1652\u001b[0;31m                 ext = inspect_excel_format(\n\u001b[0m\u001b[1;32m   1653\u001b[0m                     \u001b[0mcontent_or_path\u001b[0m\u001b[0;34m=\u001b[0m\u001b[0mpath_or_buffer\u001b[0m\u001b[0;34m,\u001b[0m \u001b[0mstorage_options\u001b[0m\u001b[0;34m=\u001b[0m\u001b[0mstorage_options\u001b[0m\u001b[0;34m\u001b[0m\u001b[0;34m\u001b[0m\u001b[0m\n\u001b[1;32m   1654\u001b[0m                 )\n",
            "\u001b[0;32m/usr/local/lib/python3.9/dist-packages/pandas/io/excel/_base.py\u001b[0m in \u001b[0;36minspect_excel_format\u001b[0;34m(content_or_path, storage_options)\u001b[0m\n\u001b[1;32m   1523\u001b[0m         \u001b[0mcontent_or_path\u001b[0m \u001b[0;34m=\u001b[0m \u001b[0mBytesIO\u001b[0m\u001b[0;34m(\u001b[0m\u001b[0mcontent_or_path\u001b[0m\u001b[0;34m)\u001b[0m\u001b[0;34m\u001b[0m\u001b[0;34m\u001b[0m\u001b[0m\n\u001b[1;32m   1524\u001b[0m \u001b[0;34m\u001b[0m\u001b[0m\n\u001b[0;32m-> 1525\u001b[0;31m     with get_handle(\n\u001b[0m\u001b[1;32m   1526\u001b[0m         \u001b[0mcontent_or_path\u001b[0m\u001b[0;34m,\u001b[0m \u001b[0;34m\"rb\"\u001b[0m\u001b[0;34m,\u001b[0m \u001b[0mstorage_options\u001b[0m\u001b[0;34m=\u001b[0m\u001b[0mstorage_options\u001b[0m\u001b[0;34m,\u001b[0m \u001b[0mis_text\u001b[0m\u001b[0;34m=\u001b[0m\u001b[0;32mFalse\u001b[0m\u001b[0;34m\u001b[0m\u001b[0;34m\u001b[0m\u001b[0m\n\u001b[1;32m   1527\u001b[0m     ) as handle:\n",
            "\u001b[0;32m/usr/local/lib/python3.9/dist-packages/pandas/io/common.py\u001b[0m in \u001b[0;36mget_handle\u001b[0;34m(path_or_buf, mode, encoding, compression, memory_map, is_text, errors, storage_options)\u001b[0m\n\u001b[1;32m    863\u001b[0m         \u001b[0;32melse\u001b[0m\u001b[0;34m:\u001b[0m\u001b[0;34m\u001b[0m\u001b[0;34m\u001b[0m\u001b[0m\n\u001b[1;32m    864\u001b[0m             \u001b[0;31m# Binary mode\u001b[0m\u001b[0;34m\u001b[0m\u001b[0;34m\u001b[0m\u001b[0m\n\u001b[0;32m--> 865\u001b[0;31m             \u001b[0mhandle\u001b[0m \u001b[0;34m=\u001b[0m \u001b[0mopen\u001b[0m\u001b[0;34m(\u001b[0m\u001b[0mhandle\u001b[0m\u001b[0;34m,\u001b[0m \u001b[0mioargs\u001b[0m\u001b[0;34m.\u001b[0m\u001b[0mmode\u001b[0m\u001b[0;34m)\u001b[0m\u001b[0;34m\u001b[0m\u001b[0;34m\u001b[0m\u001b[0m\n\u001b[0m\u001b[1;32m    866\u001b[0m         \u001b[0mhandles\u001b[0m\u001b[0;34m.\u001b[0m\u001b[0mappend\u001b[0m\u001b[0;34m(\u001b[0m\u001b[0mhandle\u001b[0m\u001b[0;34m)\u001b[0m\u001b[0;34m\u001b[0m\u001b[0;34m\u001b[0m\u001b[0m\n\u001b[1;32m    867\u001b[0m \u001b[0;34m\u001b[0m\u001b[0m\n",
            "\u001b[0;31mFileNotFoundError\u001b[0m: [Errno 2] No such file or directory: 'data.xlsx'"
          ]
        }
      ],
      "source": [
        "import pandas as pd\n",
        "import gdown\n",
        "\n",
        "# download the Excel file from Google Drive\n",
        "url = 'https://drive.google.com/uc?id=FILE_ID'\n",
        "output = 'data.xlsx'\n",
        "gdown.download(url, output, quiet=False)\n",
        "\n",
        "# read the Excel file into a data frame\n",
        "df = pd.read_excel(output)\n",
        "\n",
        "# print the data frame\n",
        "print(df)\n"
      ]
    },
    {
      "cell_type": "code",
      "source": [
        "!apt-get install -y openjdk-8-jdk-headless -qq > /dev/null\n",
        "!pip install -q tabula-py\n",
        "!pip install PyPDF2\n",
        "!pip install 'PyPDF2<3.0'\n",
        "\n",
        "import os\n",
        "os.environ[\"JAVA_HOME\"] = \"/usr/lib/jvm/java-8-openjdk-amd64\"\n",
        "\n",
        "import tabula\n",
        "from PyPDF2 import PdfFileReader, PdfFileWriter\n",
        "from tabula import read_pdf\n",
        "\n",
        "!sudo apt install tesseract-ocr\n",
        "!pip install pytesseract\n",
        "!pip install pdf2image\n",
        "\n",
        "from google.colab import drive\n",
        "drive.mount('/content/drive')\n"
      ],
      "metadata": {
        "colab": {
          "base_uri": "https://localhost:8080/"
        },
        "id": "I-WttJtE6rBu",
        "outputId": "04a79a41-a75e-4298-ad36-a573d95bb9dc"
      },
      "execution_count": null,
      "outputs": [
        {
          "output_type": "stream",
          "name": "stdout",
          "text": [
            "\u001b[?25l     \u001b[90m━━━━━━━━━━━━━━━━━━━━━━━━━━━━━━━━━━━━━━━━\u001b[0m \u001b[32m0.0/12.0 MB\u001b[0m \u001b[31m?\u001b[0m eta \u001b[36m-:--:--\u001b[0m\r\u001b[2K     \u001b[91m━━━━━━━━━━\u001b[0m\u001b[90m╺\u001b[0m\u001b[90m━━━━━━━━━━━━━━━━━━━━━━━━━━━━━\u001b[0m \u001b[32m3.1/12.0 MB\u001b[0m \u001b[31m93.2 MB/s\u001b[0m eta \u001b[36m0:00:01\u001b[0m\r\u001b[2K     \u001b[91m━━━━━━━━━━━━━━━━━━━━━━━━━━━━━━━\u001b[0m\u001b[90m╺\u001b[0m\u001b[90m━━━━━━━━\u001b[0m \u001b[32m9.3/12.0 MB\u001b[0m \u001b[31m135.4 MB/s\u001b[0m eta \u001b[36m0:00:01\u001b[0m\r\u001b[2K     \u001b[91m━━━━━━━━━━━━━━━━━━━━━━━━━━━━━━━━━━━━━━\u001b[0m\u001b[91m╸\u001b[0m \u001b[32m12.0/12.0 MB\u001b[0m \u001b[31m175.4 MB/s\u001b[0m eta \u001b[36m0:00:01\u001b[0m\r\u001b[2K     \u001b[90m━━━━━━━━━━━━━━━━━━━━━━━━━━━━━━━━━━━━━━━━\u001b[0m \u001b[32m12.0/12.0 MB\u001b[0m \u001b[31m90.1 MB/s\u001b[0m eta \u001b[36m0:00:00\u001b[0m\n",
            "\u001b[?25hLooking in indexes: https://pypi.org/simple, https://us-python.pkg.dev/colab-wheels/public/simple/\n",
            "Collecting PyPDF2\n",
            "  Downloading pypdf2-3.0.1-py3-none-any.whl (232 kB)\n",
            "\u001b[2K     \u001b[90m━━━━━━━━━━━━━━━━━━━━━━━━━━━━━━━━━━━━━━\u001b[0m \u001b[32m232.6/232.6 kB\u001b[0m \u001b[31m11.3 MB/s\u001b[0m eta \u001b[36m0:00:00\u001b[0m\n",
            "\u001b[?25hRequirement already satisfied: typing_extensions>=3.10.0.0 in /usr/local/lib/python3.9/dist-packages (from PyPDF2) (4.5.0)\n",
            "Installing collected packages: PyPDF2\n",
            "Successfully installed PyPDF2-3.0.1\n",
            "Looking in indexes: https://pypi.org/simple, https://us-python.pkg.dev/colab-wheels/public/simple/\n",
            "Collecting PyPDF2<3.0\n",
            "  Downloading pypdf2-2.12.1-py3-none-any.whl (222 kB)\n",
            "\u001b[2K     \u001b[90m━━━━━━━━━━━━━━━━━━━━━━━━━━━━━━━━━━━━━━\u001b[0m \u001b[32m222.8/222.8 kB\u001b[0m \u001b[31m11.9 MB/s\u001b[0m eta \u001b[36m0:00:00\u001b[0m\n",
            "\u001b[?25hRequirement already satisfied: typing_extensions>=3.10.0.0 in /usr/local/lib/python3.9/dist-packages (from PyPDF2<3.0) (4.5.0)\n",
            "Installing collected packages: PyPDF2\n",
            "  Attempting uninstall: PyPDF2\n",
            "    Found existing installation: PyPDF2 3.0.1\n",
            "    Uninstalling PyPDF2-3.0.1:\n",
            "      Successfully uninstalled PyPDF2-3.0.1\n",
            "Successfully installed PyPDF2-2.12.1\n",
            "Reading package lists... Done\n",
            "Building dependency tree       \n",
            "Reading state information... Done\n",
            "The following additional packages will be installed:\n",
            "  tesseract-ocr-eng tesseract-ocr-osd\n",
            "The following NEW packages will be installed:\n",
            "  tesseract-ocr tesseract-ocr-eng tesseract-ocr-osd\n",
            "0 upgraded, 3 newly installed, 0 to remove and 24 not upgraded.\n",
            "Need to get 4,850 kB of archives.\n",
            "After this operation, 16.3 MB of additional disk space will be used.\n",
            "Get:1 http://archive.ubuntu.com/ubuntu focal/universe amd64 tesseract-ocr-eng all 1:4.00~git30-7274cfa-1 [1,598 kB]\n",
            "Get:2 http://archive.ubuntu.com/ubuntu focal/universe amd64 tesseract-ocr-osd all 1:4.00~git30-7274cfa-1 [2,990 kB]\n",
            "Get:3 http://archive.ubuntu.com/ubuntu focal/universe amd64 tesseract-ocr amd64 4.1.1-2build2 [262 kB]\n",
            "Fetched 4,850 kB in 1s (4,838 kB/s)\n",
            "debconf: unable to initialize frontend: Dialog\n",
            "debconf: (No usable dialog-like program is installed, so the dialog based frontend cannot be used. at /usr/share/perl5/Debconf/FrontEnd/Dialog.pm line 76, <> line 3.)\n",
            "debconf: falling back to frontend: Readline\n",
            "debconf: unable to initialize frontend: Readline\n",
            "debconf: (This frontend requires a controlling tty.)\n",
            "debconf: falling back to frontend: Teletype\n",
            "dpkg-preconfigure: unable to re-open stdin: \n",
            "Selecting previously unselected package tesseract-ocr-eng.\n",
            "(Reading database ... 122699 files and directories currently installed.)\n",
            "Preparing to unpack .../tesseract-ocr-eng_1%3a4.00~git30-7274cfa-1_all.deb ...\n",
            "Unpacking tesseract-ocr-eng (1:4.00~git30-7274cfa-1) ...\n",
            "Selecting previously unselected package tesseract-ocr-osd.\n",
            "Preparing to unpack .../tesseract-ocr-osd_1%3a4.00~git30-7274cfa-1_all.deb ...\n",
            "Unpacking tesseract-ocr-osd (1:4.00~git30-7274cfa-1) ...\n",
            "Selecting previously unselected package tesseract-ocr.\n",
            "Preparing to unpack .../tesseract-ocr_4.1.1-2build2_amd64.deb ...\n",
            "Unpacking tesseract-ocr (4.1.1-2build2) ...\n",
            "Setting up tesseract-ocr-eng (1:4.00~git30-7274cfa-1) ...\n",
            "Setting up tesseract-ocr-osd (1:4.00~git30-7274cfa-1) ...\n",
            "Setting up tesseract-ocr (4.1.1-2build2) ...\n",
            "Processing triggers for man-db (2.9.1-1) ...\n",
            "Looking in indexes: https://pypi.org/simple, https://us-python.pkg.dev/colab-wheels/public/simple/\n",
            "Collecting pytesseract\n",
            "  Downloading pytesseract-0.3.10-py3-none-any.whl (14 kB)\n",
            "Requirement already satisfied: Pillow>=8.0.0 in /usr/local/lib/python3.9/dist-packages (from pytesseract) (8.4.0)\n",
            "Requirement already satisfied: packaging>=21.3 in /usr/local/lib/python3.9/dist-packages (from pytesseract) (23.0)\n",
            "Installing collected packages: pytesseract\n",
            "Successfully installed pytesseract-0.3.10\n",
            "Looking in indexes: https://pypi.org/simple, https://us-python.pkg.dev/colab-wheels/public/simple/\n",
            "Collecting pdf2image\n",
            "  Downloading pdf2image-1.16.3-py3-none-any.whl (11 kB)\n",
            "Requirement already satisfied: pillow in /usr/local/lib/python3.9/dist-packages (from pdf2image) (8.4.0)\n",
            "Installing collected packages: pdf2image\n",
            "Successfully installed pdf2image-1.16.3\n",
            "Mounted at /content/drive\n"
          ]
        }
      ]
    },
    {
      "cell_type": "code",
      "source": [
        "from PIL import Image\n",
        "import pytesseract\n",
        "import pandas as pd\n",
        "from pdf2image import convert_from_path\n",
        "\n",
        "import PyPDF2\n",
        "import pandas as pd\n",
        "from google.colab import drive\n",
        "import os\n",
        "import tabula\n",
        "from PyPDF2 import PdfFileReader, PdfFileWriter\n",
        "from tabula import read_pdf\n",
        "import PyPDF2\n",
        "import pandas as pd\n",
        "from pandas.core.construction import array\n",
        "import math\n",
        "from google.colab import drive\n",
        "import gdown\n",
        "\n",
        "#unite in one year\n",
        "for year in range(2007, 2022):\n",
        "  folder_path = '/content/drive/MyDrive/data/' + str(year) + '_output'\n",
        "  file_list = os.listdir(folder_path)\n",
        "  file_list = [i for i in file_list if '.xlsx' in i]\n",
        "  file_list.sort()\n",
        "  df1 = pd.read_excel(folder_path + '/' + file_list[0])\n",
        "  #df_sorted1 = df1.sort_values(df1.columns[0])\n",
        "  for file in file_list:\n",
        "    print(file)\n",
        "    if file != file_list[0]:\n",
        "      df2 = pd.read_excel(folder_path + '/' + file)\n",
        "      df1 = pd.merge(df1, df2, on=df1.columns[0], how='outer')\n",
        "\n",
        "  file_path = '/content/drive/MyDrive/data/all_years/' + str(year) + '.xlsx'\n",
        "  with pd.ExcelWriter(file_path) as writer:\n",
        "      df1.to_excel(writer, index=True, sheet_name=str(year))"
      ],
      "metadata": {
        "colab": {
          "base_uri": "https://localhost:8080/"
        },
        "id": "PO5Izj1j61ol",
        "outputId": "64ef347a-bfae-4db5-d11a-f51f08ffbee9"
      },
      "execution_count": null,
      "outputs": [
        {
          "output_type": "stream",
          "name": "stdout",
          "text": [
            "BCFF0107.pdf First Quarter 2007.xlsx\n",
            "BCFF0207.pdf First Quarter 2007.xlsx\n",
            "BCFF0307.pdf First Quarter 2007.xlsx\n",
            "BCFF0407.pdf Second Quarter 2007.xlsx\n"
          ]
        },
        {
          "output_type": "stream",
          "name": "stderr",
          "text": [
            "<ipython-input-4-53c53cd9e278>:32: FutureWarning: Passing 'suffixes' which cause duplicate columns {'Prime Bank Rate_x', 'Treas. Bills 5-Y._x', 'Cons Price Index_x', 'Treas. Bills 30-Y._x', 'Aaa Corp. Bond_x', 'Com. Paper 1-Mo._x', 'Treas. Bills 1-Y._x', 'LIBOR Rate 3-Mo._x', 'Baa COrp. Bond_x', 'Treas. Bills 6-Mo._x', 'Federal Funds Rate_x', 'State&Local Bonds_x', 'Home Mtg. Rate_x', 'Treas. Bills 3-Mo._x', 'Treas. Bills 2-Y._x', 'GDP Price Index_x', 'Read GDP_x', 'Treas. Bills 10-Y._x', \"Fed's Major Currency $ Index_x\"} in the result is deprecated and will raise a MergeError in a future version.\n",
            "  df1 = pd.merge(df1, df2, on=df1.columns[0], how='outer')\n"
          ]
        },
        {
          "output_type": "stream",
          "name": "stdout",
          "text": [
            "BCFF0507.pdf Second Quarter 2007.xlsx\n",
            "BCFF0607.pdf Second Quarter 2007.xlsx\n"
          ]
        },
        {
          "output_type": "stream",
          "name": "stderr",
          "text": [
            "<ipython-input-4-53c53cd9e278>:32: FutureWarning: Passing 'suffixes' which cause duplicate columns {'Prime Bank Rate_x', 'Treas. Bills 5-Y._x', 'Cons Price Index_x', 'Treas. Bills 30-Y._x', 'Aaa Corp. Bond_x', 'Com. Paper 1-Mo._x', 'Treas. Bills 1-Y._x', 'LIBOR Rate 3-Mo._x', 'Baa COrp. Bond_x', 'Treas. Bills 6-Mo._x', 'Federal Funds Rate_x', 'State&Local Bonds_x', 'Home Mtg. Rate_x', 'Treas. Bills 3-Mo._x', 'Treas. Bills 2-Y._x', 'GDP Price Index_x', 'Read GDP_x', 'Treas. Bills 10-Y._x', \"Fed's Major Currency $ Index_x\"} in the result is deprecated and will raise a MergeError in a future version.\n",
            "  df1 = pd.merge(df1, df2, on=df1.columns[0], how='outer')\n"
          ]
        },
        {
          "output_type": "stream",
          "name": "stdout",
          "text": [
            "BCFF0707.pdf Third Quarter 2007.xlsx\n",
            "BCFF0807.pdf Third Quarter 2007.xlsx\n"
          ]
        },
        {
          "output_type": "stream",
          "name": "stderr",
          "text": [
            "<ipython-input-4-53c53cd9e278>:32: FutureWarning: Passing 'suffixes' which cause duplicate columns {'Prime Bank Rate_x', 'Treas. Bills 5-Y._x', 'Cons Price Index_x', 'Treas. Bills 30-Y._x', 'Aaa Corp. Bond_x', 'Com. Paper 1-Mo._x', 'Treas. Bills 1-Y._x', 'LIBOR Rate 3-Mo._x', 'Baa COrp. Bond_x', 'Treas. Bills 6-Mo._x', 'Federal Funds Rate_x', 'State&Local Bonds_x', 'Home Mtg. Rate_x', 'Treas. Bills 3-Mo._x', 'Treas. Bills 2-Y._x', 'GDP Price Index_x', 'Read GDP_x', 'Treas. Bills 10-Y._x', \"Fed's Major Currency $ Index_x\"} in the result is deprecated and will raise a MergeError in a future version.\n",
            "  df1 = pd.merge(df1, df2, on=df1.columns[0], how='outer')\n"
          ]
        },
        {
          "output_type": "stream",
          "name": "stdout",
          "text": [
            "BCFF0907.pdf Third Quarter 2007.xlsx\n",
            "BCFF1007.pdf Fourth Quarter 2007.xlsx\n"
          ]
        },
        {
          "output_type": "stream",
          "name": "stderr",
          "text": [
            "<ipython-input-4-53c53cd9e278>:32: FutureWarning: Passing 'suffixes' which cause duplicate columns {'Prime Bank Rate_x', 'Treas. Bills 5-Y._x', 'Cons Price Index_x', 'Treas. Bills 30-Y._x', 'Aaa Corp. Bond_x', 'Com. Paper 1-Mo._x', 'Treas. Bills 1-Y._x', 'LIBOR Rate 3-Mo._x', 'Baa COrp. Bond_x', 'Treas. Bills 6-Mo._x', 'Federal Funds Rate_x', 'State&Local Bonds_x', 'Home Mtg. Rate_x', 'Treas. Bills 3-Mo._x', 'Treas. Bills 2-Y._x', 'GDP Price Index_x', 'Read GDP_x', 'Treas. Bills 10-Y._x', \"Fed's Major Currency $ Index_x\"} in the result is deprecated and will raise a MergeError in a future version.\n",
            "  df1 = pd.merge(df1, df2, on=df1.columns[0], how='outer')\n"
          ]
        },
        {
          "output_type": "stream",
          "name": "stdout",
          "text": [
            "BCFF1107.pdf Fourth Quarter 2007.xlsx\n",
            "BCFF1207email.pdf Fourth Quarter 2007.xlsx\n"
          ]
        },
        {
          "output_type": "stream",
          "name": "stderr",
          "text": [
            "<ipython-input-4-53c53cd9e278>:32: FutureWarning: Passing 'suffixes' which cause duplicate columns {'Prime Bank Rate_x', 'Treas. Bills 5-Y._x', 'Cons Price Index_x', 'Treas. Bills 30-Y._x', 'Aaa Corp. Bond_x', 'Com. Paper 1-Mo._x', 'Treas. Bills 1-Y._x', 'LIBOR Rate 3-Mo._x', 'Baa COrp. Bond_x', 'Treas. Bills 6-Mo._x', 'Federal Funds Rate_x', 'State&Local Bonds_x', 'Home Mtg. Rate_x', 'Treas. Bills 3-Mo._x', 'Treas. Bills 2-Y._x', 'GDP Price Index_x', 'Read GDP_x', 'Treas. Bills 10-Y._x', \"Fed's Major Currency $ Index_x\"} in the result is deprecated and will raise a MergeError in a future version.\n",
            "  df1 = pd.merge(df1, df2, on=df1.columns[0], how='outer')\n"
          ]
        },
        {
          "output_type": "stream",
          "name": "stdout",
          "text": [
            "BCFF0108email.pdf First Quarter 2008.xlsx\n",
            "BCFF0208email.pdf First Quarter 2008.xlsx\n",
            "BCFF0308email.pdf First Quarter 2008.xlsx\n",
            "BCFF0408email.pdf Second Quarter 2008.xlsx\n"
          ]
        },
        {
          "output_type": "stream",
          "name": "stderr",
          "text": [
            "<ipython-input-4-53c53cd9e278>:32: FutureWarning: Passing 'suffixes' which cause duplicate columns {'Prime Bank Rate_x', 'Treas. Bills 5-Y._x', 'Cons Price Index_x', 'Treas. Bills 30-Y._x', 'Aaa Corp. Bond_x', 'Com. Paper 1-Mo._x', 'Treas. Bills 1-Y._x', 'LIBOR Rate 3-Mo._x', 'Baa COrp. Bond_x', 'Treas. Bills 6-Mo._x', 'Federal Funds Rate_x', 'State&Local Bonds_x', 'Home Mtg. Rate_x', 'Treas. Bills 3-Mo._x', 'Treas. Bills 2-Y._x', 'GDP Price Index_x', 'Read GDP_x', 'Treas. Bills 10-Y._x', \"Fed's Major Currency $ Index_x\"} in the result is deprecated and will raise a MergeError in a future version.\n",
            "  df1 = pd.merge(df1, df2, on=df1.columns[0], how='outer')\n"
          ]
        },
        {
          "output_type": "stream",
          "name": "stdout",
          "text": [
            "BCFF0508email.pdf Second Quarter 2008.xlsx\n",
            "BCFF0608email.pdf Second Quarter 2008.xlsx\n"
          ]
        },
        {
          "output_type": "stream",
          "name": "stderr",
          "text": [
            "<ipython-input-4-53c53cd9e278>:32: FutureWarning: Passing 'suffixes' which cause duplicate columns {'Prime Bank Rate_x', 'Treas. Bills 5-Y._x', 'Cons Price Index_x', 'Treas. Bills 30-Y._x', 'Aaa Corp. Bond_x', 'Com. Paper 1-Mo._x', 'Treas. Bills 1-Y._x', 'LIBOR Rate 3-Mo._x', 'Baa COrp. Bond_x', 'Treas. Bills 6-Mo._x', 'Federal Funds Rate_x', 'State&Local Bonds_x', 'Home Mtg. Rate_x', 'Treas. Bills 3-Mo._x', 'Treas. Bills 2-Y._x', 'GDP Price Index_x', 'Read GDP_x', 'Treas. Bills 10-Y._x', \"Fed's Major Currency $ Index_x\"} in the result is deprecated and will raise a MergeError in a future version.\n",
            "  df1 = pd.merge(df1, df2, on=df1.columns[0], how='outer')\n"
          ]
        },
        {
          "output_type": "stream",
          "name": "stdout",
          "text": [
            "BCFF0708email.pdf Third Quarter 2008.xlsx\n",
            "BCFF0808email.pdf Third Quarter 2008.xlsx\n"
          ]
        },
        {
          "output_type": "stream",
          "name": "stderr",
          "text": [
            "<ipython-input-4-53c53cd9e278>:32: FutureWarning: Passing 'suffixes' which cause duplicate columns {'Prime Bank Rate_x', 'Treas. Bills 5-Y._x', 'Cons Price Index_x', 'Treas. Bills 30-Y._x', 'Aaa Corp. Bond_x', 'Com. Paper 1-Mo._x', 'Treas. Bills 1-Y._x', 'LIBOR Rate 3-Mo._x', 'Baa COrp. Bond_x', 'Treas. Bills 6-Mo._x', 'Federal Funds Rate_x', 'State&Local Bonds_x', 'Home Mtg. Rate_x', 'Treas. Bills 3-Mo._x', 'Treas. Bills 2-Y._x', 'GDP Price Index_x', 'Read GDP_x', 'Treas. Bills 10-Y._x', \"Fed's Major Currency $ Index_x\"} in the result is deprecated and will raise a MergeError in a future version.\n",
            "  df1 = pd.merge(df1, df2, on=df1.columns[0], how='outer')\n"
          ]
        },
        {
          "output_type": "stream",
          "name": "stdout",
          "text": [
            "BCFF0908email.pdf Third Quarter 2008.xlsx\n",
            "BCFF1008email.pdf Fourth Quarter 2008.xlsx\n"
          ]
        },
        {
          "output_type": "stream",
          "name": "stderr",
          "text": [
            "<ipython-input-4-53c53cd9e278>:32: FutureWarning: Passing 'suffixes' which cause duplicate columns {'Prime Bank Rate_x', 'Treas. Bills 5-Y._x', 'Cons Price Index_x', 'Treas. Bills 30-Y._x', 'Aaa Corp. Bond_x', 'Com. Paper 1-Mo._x', 'Treas. Bills 1-Y._x', 'LIBOR Rate 3-Mo._x', 'Baa COrp. Bond_x', 'Treas. Bills 6-Mo._x', 'Federal Funds Rate_x', 'State&Local Bonds_x', 'Home Mtg. Rate_x', 'Treas. Bills 3-Mo._x', 'Treas. Bills 2-Y._x', 'GDP Price Index_x', 'Read GDP_x', 'Treas. Bills 10-Y._x', \"Fed's Major Currency $ Index_x\"} in the result is deprecated and will raise a MergeError in a future version.\n",
            "  df1 = pd.merge(df1, df2, on=df1.columns[0], how='outer')\n"
          ]
        },
        {
          "output_type": "stream",
          "name": "stdout",
          "text": [
            "BCFF1108email.pdf Fourth Quarter 2008.xlsx\n",
            "BCFF1208email.pdf Fourth Quarter 2008.xlsx\n"
          ]
        },
        {
          "output_type": "stream",
          "name": "stderr",
          "text": [
            "<ipython-input-4-53c53cd9e278>:32: FutureWarning: Passing 'suffixes' which cause duplicate columns {'Prime Bank Rate_x', 'Treas. Bills 5-Y._x', 'Cons Price Index_x', 'Treas. Bills 30-Y._x', 'Aaa Corp. Bond_x', 'Com. Paper 1-Mo._x', 'Treas. Bills 1-Y._x', 'LIBOR Rate 3-Mo._x', 'Baa COrp. Bond_x', 'Treas. Bills 6-Mo._x', 'Federal Funds Rate_x', 'State&Local Bonds_x', 'Home Mtg. Rate_x', 'Treas. Bills 3-Mo._x', 'Treas. Bills 2-Y._x', 'GDP Price Index_x', 'Read GDP_x', 'Treas. Bills 10-Y._x', \"Fed's Major Currency $ Index_x\"} in the result is deprecated and will raise a MergeError in a future version.\n",
            "  df1 = pd.merge(df1, df2, on=df1.columns[0], how='outer')\n"
          ]
        },
        {
          "output_type": "stream",
          "name": "stdout",
          "text": [
            "BCFF0109email.pdf First Quarter 2009.xlsx\n",
            "BCFF0209email.pdf First Quarter 2009.xlsx\n",
            "BCFF0309email.pdf First Quarter 2009.xlsx\n",
            "BCFF0409email.pdf Second Quarter 2009.xlsx\n"
          ]
        },
        {
          "output_type": "stream",
          "name": "stderr",
          "text": [
            "<ipython-input-4-53c53cd9e278>:32: FutureWarning: Passing 'suffixes' which cause duplicate columns {'Prime Bank Rate_x', 'Treas. Bills 5-Y._x', 'Cons Price Index_x', 'Treas. Bills 30-Y._x', 'Aaa Corp. Bond_x', 'Com. Paper 1-Mo._x', 'Treas. Bills 1-Y._x', 'LIBOR Rate 3-Mo._x', 'Baa COrp. Bond_x', 'Treas. Bills 6-Mo._x', 'Federal Funds Rate_x', 'State&Local Bonds_x', 'Home Mtg. Rate_x', 'Treas. Bills 3-Mo._x', 'Treas. Bills 2-Y._x', 'GDP Price Index_x', 'Read GDP_x', 'Treas. Bills 10-Y._x', \"Fed's Major Currency $ Index_x\"} in the result is deprecated and will raise a MergeError in a future version.\n",
            "  df1 = pd.merge(df1, df2, on=df1.columns[0], how='outer')\n"
          ]
        },
        {
          "output_type": "stream",
          "name": "stdout",
          "text": [
            "BCFF0509email.pdf Second Quarter 2009.xlsx\n",
            "BCFF0609email.pdf Second Quarter 2009.xlsx\n"
          ]
        },
        {
          "output_type": "stream",
          "name": "stderr",
          "text": [
            "<ipython-input-4-53c53cd9e278>:32: FutureWarning: Passing 'suffixes' which cause duplicate columns {'Prime Bank Rate_x', 'Treas. Bills 5-Y._x', 'Cons Price Index_x', 'Treas. Bills 30-Y._x', 'Aaa Corp. Bond_x', 'Com. Paper 1-Mo._x', 'Treas. Bills 1-Y._x', 'LIBOR Rate 3-Mo._x', 'Baa COrp. Bond_x', 'Treas. Bills 6-Mo._x', 'Federal Funds Rate_x', 'State&Local Bonds_x', 'Home Mtg. Rate_x', 'Treas. Bills 3-Mo._x', 'Treas. Bills 2-Y._x', 'GDP Price Index_x', 'Read GDP_x', 'Treas. Bills 10-Y._x', \"Fed's Major Currency $ Index_x\"} in the result is deprecated and will raise a MergeError in a future version.\n",
            "  df1 = pd.merge(df1, df2, on=df1.columns[0], how='outer')\n"
          ]
        },
        {
          "output_type": "stream",
          "name": "stdout",
          "text": [
            "BCFF0709email.pdf Third Quarter 2009.xlsx\n",
            "BCFF0809email.pdf Third Quarter 2009.xlsx\n"
          ]
        },
        {
          "output_type": "stream",
          "name": "stderr",
          "text": [
            "<ipython-input-4-53c53cd9e278>:32: FutureWarning: Passing 'suffixes' which cause duplicate columns {'Prime Bank Rate_x', 'Treas. Bills 5-Y._x', 'Cons Price Index_x', 'Treas. Bills 30-Y._x', 'Aaa Corp. Bond_x', 'Com. Paper 1-Mo._x', 'Treas. Bills 1-Y._x', 'LIBOR Rate 3-Mo._x', 'Baa COrp. Bond_x', 'Treas. Bills 6-Mo._x', 'Federal Funds Rate_x', 'State&Local Bonds_x', 'Home Mtg. Rate_x', 'Treas. Bills 3-Mo._x', 'Treas. Bills 2-Y._x', 'GDP Price Index_x', 'Read GDP_x', 'Treas. Bills 10-Y._x', \"Fed's Major Currency $ Index_x\"} in the result is deprecated and will raise a MergeError in a future version.\n",
            "  df1 = pd.merge(df1, df2, on=df1.columns[0], how='outer')\n"
          ]
        },
        {
          "output_type": "stream",
          "name": "stdout",
          "text": [
            "BCFF0909email.pdf Third Quarter 2009.xlsx\n",
            "BCFF1009email.pdf Fourth Quarter 2009.xlsx\n"
          ]
        },
        {
          "output_type": "stream",
          "name": "stderr",
          "text": [
            "<ipython-input-4-53c53cd9e278>:32: FutureWarning: Passing 'suffixes' which cause duplicate columns {'Prime Bank Rate_x', 'Treas. Bills 5-Y._x', 'Cons Price Index_x', 'Treas. Bills 30-Y._x', 'Aaa Corp. Bond_x', 'Com. Paper 1-Mo._x', 'Treas. Bills 1-Y._x', 'LIBOR Rate 3-Mo._x', 'Baa COrp. Bond_x', 'Treas. Bills 6-Mo._x', 'Federal Funds Rate_x', 'State&Local Bonds_x', 'Home Mtg. Rate_x', 'Treas. Bills 3-Mo._x', 'Treas. Bills 2-Y._x', 'GDP Price Index_x', 'Read GDP_x', 'Treas. Bills 10-Y._x', \"Fed's Major Currency $ Index_x\"} in the result is deprecated and will raise a MergeError in a future version.\n",
            "  df1 = pd.merge(df1, df2, on=df1.columns[0], how='outer')\n"
          ]
        },
        {
          "output_type": "stream",
          "name": "stdout",
          "text": [
            "BCFF1109email.pdf Fourth Quarter 2009.xlsx\n",
            "BCFF1209email.pdf Fourth Quarter 2009.xlsx\n"
          ]
        },
        {
          "output_type": "stream",
          "name": "stderr",
          "text": [
            "<ipython-input-4-53c53cd9e278>:32: FutureWarning: Passing 'suffixes' which cause duplicate columns {'Prime Bank Rate_x', 'Treas. Bills 5-Y._x', 'Cons Price Index_x', 'Treas. Bills 30-Y._x', 'Aaa Corp. Bond_x', 'Com. Paper 1-Mo._x', 'Treas. Bills 1-Y._x', 'LIBOR Rate 3-Mo._x', 'Baa COrp. Bond_x', 'Treas. Bills 6-Mo._x', 'Federal Funds Rate_x', 'State&Local Bonds_x', 'Home Mtg. Rate_x', 'Treas. Bills 3-Mo._x', 'Treas. Bills 2-Y._x', 'GDP Price Index_x', 'Read GDP_x', 'Treas. Bills 10-Y._x', \"Fed's Major Currency $ Index_x\"} in the result is deprecated and will raise a MergeError in a future version.\n",
            "  df1 = pd.merge(df1, df2, on=df1.columns[0], how='outer')\n"
          ]
        },
        {
          "output_type": "stream",
          "name": "stdout",
          "text": [
            "BCFF0110email.pdf First Quarter 2010.xlsx\n",
            "BCFF0210email.pdf First Quarter 2010.xlsx\n",
            "BCFF0310email.pdf First Quarter 2010.xlsx\n",
            "BCFF0410email.pdf Second Quarter 2010.xlsx\n"
          ]
        },
        {
          "output_type": "stream",
          "name": "stderr",
          "text": [
            "<ipython-input-4-53c53cd9e278>:32: FutureWarning: Passing 'suffixes' which cause duplicate columns {'Prime Bank Rate_x', 'Treas. Bills 5-Y._x', 'Cons Price Index_x', 'Treas. Bills 30-Y._x', 'Aaa Corp. Bond_x', 'Com. Paper 1-Mo._x', 'Treas. Bills 1-Y._x', 'LIBOR Rate 3-Mo._x', 'Baa COrp. Bond_x', 'Treas. Bills 6-Mo._x', 'Federal Funds Rate_x', 'State&Local Bonds_x', 'Home Mtg. Rate_x', 'Treas. Bills 3-Mo._x', 'Treas. Bills 2-Y._x', 'GDP Price Index_x', 'Read GDP_x', 'Treas. Bills 10-Y._x', \"Fed's Major Currency $ Index_x\"} in the result is deprecated and will raise a MergeError in a future version.\n",
            "  df1 = pd.merge(df1, df2, on=df1.columns[0], how='outer')\n"
          ]
        },
        {
          "output_type": "stream",
          "name": "stdout",
          "text": [
            "BCFF0510email.pdf Second Quarter 2010.xlsx\n",
            "BCFF0610email.pdf Second Quarter 2010.xlsx\n"
          ]
        },
        {
          "output_type": "stream",
          "name": "stderr",
          "text": [
            "<ipython-input-4-53c53cd9e278>:32: FutureWarning: Passing 'suffixes' which cause duplicate columns {'Prime Bank Rate_x', 'Treas. Bills 5-Y._x', 'Cons Price Index_x', 'Treas. Bills 30-Y._x', 'Aaa Corp. Bond_x', 'Com. Paper 1-Mo._x', 'Treas. Bills 1-Y._x', 'LIBOR Rate 3-Mo._x', 'Baa COrp. Bond_x', 'Treas. Bills 6-Mo._x', 'Federal Funds Rate_x', 'State&Local Bonds_x', 'Home Mtg. Rate_x', 'Treas. Bills 3-Mo._x', 'Treas. Bills 2-Y._x', 'GDP Price Index_x', 'Read GDP_x', 'Treas. Bills 10-Y._x', \"Fed's Major Currency $ Index_x\"} in the result is deprecated and will raise a MergeError in a future version.\n",
            "  df1 = pd.merge(df1, df2, on=df1.columns[0], how='outer')\n"
          ]
        },
        {
          "output_type": "stream",
          "name": "stdout",
          "text": [
            "BCFF0710email.pdf Third Quarter 2010.xlsx\n",
            "BCFF0810email.pdf Third Quarter 2010.xlsx\n"
          ]
        },
        {
          "output_type": "stream",
          "name": "stderr",
          "text": [
            "<ipython-input-4-53c53cd9e278>:32: FutureWarning: Passing 'suffixes' which cause duplicate columns {'Prime Bank Rate_x', 'Treas. Bills 5-Y._x', 'Cons Price Index_x', 'Treas. Bills 30-Y._x', 'Aaa Corp. Bond_x', 'Com. Paper 1-Mo._x', 'Treas. Bills 1-Y._x', 'LIBOR Rate 3-Mo._x', 'Baa COrp. Bond_x', 'Treas. Bills 6-Mo._x', 'Federal Funds Rate_x', 'State&Local Bonds_x', 'Home Mtg. Rate_x', 'Treas. Bills 3-Mo._x', 'Treas. Bills 2-Y._x', 'GDP Price Index_x', 'Read GDP_x', 'Treas. Bills 10-Y._x', \"Fed's Major Currency $ Index_x\"} in the result is deprecated and will raise a MergeError in a future version.\n",
            "  df1 = pd.merge(df1, df2, on=df1.columns[0], how='outer')\n"
          ]
        },
        {
          "output_type": "stream",
          "name": "stdout",
          "text": [
            "BCFF0910email.pdf Third Quarter 2010.xlsx\n",
            "BCFF1010email.pdf Fourth Quarter 2010.xlsx\n"
          ]
        },
        {
          "output_type": "stream",
          "name": "stderr",
          "text": [
            "<ipython-input-4-53c53cd9e278>:32: FutureWarning: Passing 'suffixes' which cause duplicate columns {'Prime Bank Rate_x', 'Treas. Bills 5-Y._x', 'Cons Price Index_x', 'Treas. Bills 30-Y._x', 'Aaa Corp. Bond_x', 'Com. Paper 1-Mo._x', 'Treas. Bills 1-Y._x', 'LIBOR Rate 3-Mo._x', 'Baa COrp. Bond_x', 'Treas. Bills 6-Mo._x', 'Federal Funds Rate_x', 'State&Local Bonds_x', 'Home Mtg. Rate_x', 'Treas. Bills 3-Mo._x', 'Treas. Bills 2-Y._x', 'GDP Price Index_x', 'Read GDP_x', 'Treas. Bills 10-Y._x', \"Fed's Major Currency $ Index_x\"} in the result is deprecated and will raise a MergeError in a future version.\n",
            "  df1 = pd.merge(df1, df2, on=df1.columns[0], how='outer')\n"
          ]
        },
        {
          "output_type": "stream",
          "name": "stdout",
          "text": [
            "BCFF1110email.pdf Fourth Quarter 2010.xlsx\n",
            "BCFF1210email.pdf Fourth Quarter 2010.xlsx\n"
          ]
        },
        {
          "output_type": "stream",
          "name": "stderr",
          "text": [
            "<ipython-input-4-53c53cd9e278>:32: FutureWarning: Passing 'suffixes' which cause duplicate columns {'Prime Bank Rate_x', 'Treas. Bills 5-Y._x', 'Cons Price Index_x', 'Treas. Bills 30-Y._x', 'Aaa Corp. Bond_x', 'Com. Paper 1-Mo._x', 'Treas. Bills 1-Y._x', 'LIBOR Rate 3-Mo._x', 'Baa COrp. Bond_x', 'Treas. Bills 6-Mo._x', 'Federal Funds Rate_x', 'State&Local Bonds_x', 'Home Mtg. Rate_x', 'Treas. Bills 3-Mo._x', 'Treas. Bills 2-Y._x', 'GDP Price Index_x', 'Read GDP_x', 'Treas. Bills 10-Y._x', \"Fed's Major Currency $ Index_x\"} in the result is deprecated and will raise a MergeError in a future version.\n",
            "  df1 = pd.merge(df1, df2, on=df1.columns[0], how='outer')\n"
          ]
        },
        {
          "output_type": "stream",
          "name": "stdout",
          "text": [
            "BCFF0111email.pdf First Quarter 2011.xlsx\n",
            "BCFF0211email.pdf First Quarter 2011.xlsx\n",
            "BCFF0311email.pdf First Quarter 2011.xlsx\n",
            "BCFF0411email.pdf Second Quarter 2011.xlsx\n"
          ]
        },
        {
          "output_type": "stream",
          "name": "stderr",
          "text": [
            "<ipython-input-4-53c53cd9e278>:32: FutureWarning: Passing 'suffixes' which cause duplicate columns {'Prime Bank Rate_x', 'Treas. Bills 5-Y._x', 'Cons Price Index_x', 'Treas. Bills 30-Y._x', 'Aaa Corp. Bond_x', 'Com. Paper 1-Mo._x', 'Treas. Bills 1-Y._x', 'LIBOR Rate 3-Mo._x', 'Baa COrp. Bond_x', 'Treas. Bills 6-Mo._x', 'Federal Funds Rate_x', 'State&Local Bonds_x', 'Home Mtg. Rate_x', 'Treas. Bills 3-Mo._x', 'Treas. Bills 2-Y._x', 'GDP Price Index_x', 'Read GDP_x', 'Treas. Bills 10-Y._x', \"Fed's Major Currency $ Index_x\"} in the result is deprecated and will raise a MergeError in a future version.\n",
            "  df1 = pd.merge(df1, df2, on=df1.columns[0], how='outer')\n"
          ]
        },
        {
          "output_type": "stream",
          "name": "stdout",
          "text": [
            "BCFF0511email.pdf Second Quarter 2011.xlsx\n",
            "BCFF0611email.pdf Second Quarter 2011.xlsx\n"
          ]
        },
        {
          "output_type": "stream",
          "name": "stderr",
          "text": [
            "<ipython-input-4-53c53cd9e278>:32: FutureWarning: Passing 'suffixes' which cause duplicate columns {'Prime Bank Rate_x', 'Treas. Bills 5-Y._x', 'Cons Price Index_x', 'Treas. Bills 30-Y._x', 'Aaa Corp. Bond_x', 'Com. Paper 1-Mo._x', 'Treas. Bills 1-Y._x', 'LIBOR Rate 3-Mo._x', 'Baa COrp. Bond_x', 'Treas. Bills 6-Mo._x', 'Federal Funds Rate_x', 'State&Local Bonds_x', 'Home Mtg. Rate_x', 'Treas. Bills 3-Mo._x', 'Treas. Bills 2-Y._x', 'GDP Price Index_x', 'Read GDP_x', 'Treas. Bills 10-Y._x', \"Fed's Major Currency $ Index_x\"} in the result is deprecated and will raise a MergeError in a future version.\n",
            "  df1 = pd.merge(df1, df2, on=df1.columns[0], how='outer')\n"
          ]
        },
        {
          "output_type": "stream",
          "name": "stdout",
          "text": [
            "BCFF0711email.pdf Third Quarter 2011.xlsx\n",
            "BCFF0811email.pdf Third Quarter 2011.xlsx\n"
          ]
        },
        {
          "output_type": "stream",
          "name": "stderr",
          "text": [
            "<ipython-input-4-53c53cd9e278>:32: FutureWarning: Passing 'suffixes' which cause duplicate columns {'Prime Bank Rate_x', 'Treas. Bills 5-Y._x', 'Cons Price Index_x', 'Treas. Bills 30-Y._x', 'Aaa Corp. Bond_x', 'Com. Paper 1-Mo._x', 'Treas. Bills 1-Y._x', 'LIBOR Rate 3-Mo._x', 'Baa COrp. Bond_x', 'Treas. Bills 6-Mo._x', 'Federal Funds Rate_x', 'State&Local Bonds_x', 'Home Mtg. Rate_x', 'Treas. Bills 3-Mo._x', 'Treas. Bills 2-Y._x', 'GDP Price Index_x', 'Read GDP_x', 'Treas. Bills 10-Y._x', \"Fed's Major Currency $ Index_x\"} in the result is deprecated and will raise a MergeError in a future version.\n",
            "  df1 = pd.merge(df1, df2, on=df1.columns[0], how='outer')\n"
          ]
        },
        {
          "output_type": "stream",
          "name": "stdout",
          "text": [
            "BCFF1011email.pdf Fourth Quarter 2011.xlsx\n",
            "BCFF1111email.pdf Fourth Quarter 2011.xlsx\n"
          ]
        },
        {
          "output_type": "stream",
          "name": "stderr",
          "text": [
            "<ipython-input-4-53c53cd9e278>:32: FutureWarning: Passing 'suffixes' which cause duplicate columns {'Prime Bank Rate_x', 'Treas. Bills 5-Y._x', 'Cons Price Index_x', 'Treas. Bills 30-Y._x', 'Aaa Corp. Bond_x', 'Com. Paper 1-Mo._x', 'Treas. Bills 1-Y._x', 'LIBOR Rate 3-Mo._x', 'Baa COrp. Bond_x', 'Treas. Bills 6-Mo._x', 'Federal Funds Rate_x', 'State&Local Bonds_x', 'Home Mtg. Rate_x', 'Treas. Bills 3-Mo._x', 'Treas. Bills 2-Y._x', 'GDP Price Index_x', 'Read GDP_x', 'Treas. Bills 10-Y._x', \"Fed's Major Currency $ Index_x\"} in the result is deprecated and will raise a MergeError in a future version.\n",
            "  df1 = pd.merge(df1, df2, on=df1.columns[0], how='outer')\n"
          ]
        },
        {
          "output_type": "stream",
          "name": "stdout",
          "text": [
            "BCFF1211email.pdf Fourth Quarter 2011.xlsx\n",
            "CorrectedBCFF0911email.pdf Third Quarter 2011.xlsx\n"
          ]
        },
        {
          "output_type": "stream",
          "name": "stderr",
          "text": [
            "<ipython-input-4-53c53cd9e278>:32: FutureWarning: Passing 'suffixes' which cause duplicate columns {'Prime Bank Rate_x', 'Treas. Bills 5-Y._x', 'Cons Price Index_x', 'Treas. Bills 30-Y._x', 'Aaa Corp. Bond_x', 'Com. Paper 1-Mo._x', 'Treas. Bills 1-Y._x', 'LIBOR Rate 3-Mo._x', 'Baa COrp. Bond_x', 'Treas. Bills 6-Mo._x', 'Federal Funds Rate_x', 'State&Local Bonds_x', 'Home Mtg. Rate_x', 'Treas. Bills 3-Mo._x', 'Treas. Bills 2-Y._x', 'GDP Price Index_x', 'Read GDP_x', 'Treas. Bills 10-Y._x', \"Fed's Major Currency $ Index_x\"} in the result is deprecated and will raise a MergeError in a future version.\n",
            "  df1 = pd.merge(df1, df2, on=df1.columns[0], how='outer')\n"
          ]
        },
        {
          "output_type": "stream",
          "name": "stdout",
          "text": [
            "BCFF0112email.pdf First Quarter 2012.xlsx\n",
            "BCFF0212email.pdf First Quarter 2012.xlsx\n",
            "BCFF0312email.pdf First Quarter 2012.xlsx\n",
            "BCFF0412email.pdf Second Quarter 2012.xlsx\n"
          ]
        },
        {
          "output_type": "stream",
          "name": "stderr",
          "text": [
            "<ipython-input-4-53c53cd9e278>:32: FutureWarning: Passing 'suffixes' which cause duplicate columns {'Prime Bank Rate_x', 'Treas. Bills 5-Y._x', 'Cons Price Index_x', 'Treas. Bills 30-Y._x', 'Aaa Corp. Bond_x', 'Com. Paper 1-Mo._x', 'Treas. Bills 1-Y._x', 'LIBOR Rate 3-Mo._x', 'Baa COrp. Bond_x', 'Treas. Bills 6-Mo._x', 'Federal Funds Rate_x', 'State&Local Bonds_x', 'Home Mtg. Rate_x', 'Treas. Bills 3-Mo._x', 'Treas. Bills 2-Y._x', 'GDP Price Index_x', 'Read GDP_x', 'Treas. Bills 10-Y._x', \"Fed's Major Currency $ Index_x\"} in the result is deprecated and will raise a MergeError in a future version.\n",
            "  df1 = pd.merge(df1, df2, on=df1.columns[0], how='outer')\n"
          ]
        },
        {
          "output_type": "stream",
          "name": "stdout",
          "text": [
            "BCFF0512email.pdf Third Quarter 2012.xlsx\n",
            "BCFF0612email.pdf Second Quarter 2012.xlsx\n"
          ]
        },
        {
          "output_type": "stream",
          "name": "stderr",
          "text": [
            "<ipython-input-4-53c53cd9e278>:32: FutureWarning: Passing 'suffixes' which cause duplicate columns {'Prime Bank Rate_x', 'Treas. Bills 5-Y._x', 'Cons Price Index_x', 'Treas. Bills 30-Y._x', 'Aaa Corp. Bond_x', 'Com. Paper 1-Mo._x', 'Treas. Bills 1-Y._x', 'LIBOR Rate 3-Mo._x', 'Baa COrp. Bond_x', 'Treas. Bills 6-Mo._x', 'Federal Funds Rate_x', 'State&Local Bonds_x', 'Home Mtg. Rate_x', 'Treas. Bills 3-Mo._x', 'Treas. Bills 2-Y._x', 'GDP Price Index_x', 'Read GDP_x', 'Treas. Bills 10-Y._x', \"Fed's Major Currency $ Index_x\"} in the result is deprecated and will raise a MergeError in a future version.\n",
            "  df1 = pd.merge(df1, df2, on=df1.columns[0], how='outer')\n"
          ]
        },
        {
          "output_type": "stream",
          "name": "stdout",
          "text": [
            "BCFF0712email.pdf Third Quarter 2012.xlsx\n",
            "BCFF0812email.pdf Third Quarter 2012.xlsx\n"
          ]
        },
        {
          "output_type": "stream",
          "name": "stderr",
          "text": [
            "<ipython-input-4-53c53cd9e278>:32: FutureWarning: Passing 'suffixes' which cause duplicate columns {'Prime Bank Rate_x', 'Treas. Bills 5-Y._x', 'Cons Price Index_x', 'Treas. Bills 30-Y._x', 'Aaa Corp. Bond_x', 'Com. Paper 1-Mo._x', 'Treas. Bills 1-Y._x', 'LIBOR Rate 3-Mo._x', 'Baa COrp. Bond_x', 'Treas. Bills 6-Mo._x', 'Federal Funds Rate_x', 'State&Local Bonds_x', 'Home Mtg. Rate_x', 'Treas. Bills 3-Mo._x', 'Treas. Bills 2-Y._x', 'GDP Price Index_x', 'Read GDP_x', 'Treas. Bills 10-Y._x', \"Fed's Major Currency $ Index_x\"} in the result is deprecated and will raise a MergeError in a future version.\n",
            "  df1 = pd.merge(df1, df2, on=df1.columns[0], how='outer')\n"
          ]
        },
        {
          "output_type": "stream",
          "name": "stdout",
          "text": [
            "BCFF0912email.pdf Third Quarter 2012.xlsx\n",
            "BCFF1012email.pdf Fourth Quarter 2012.xlsx\n"
          ]
        },
        {
          "output_type": "stream",
          "name": "stderr",
          "text": [
            "<ipython-input-4-53c53cd9e278>:32: FutureWarning: Passing 'suffixes' which cause duplicate columns {'Prime Bank Rate_x', 'Treas. Bills 5-Y._x', 'Cons Price Index_x', 'Treas. Bills 30-Y._x', 'Aaa Corp. Bond_x', 'Com. Paper 1-Mo._x', 'Treas. Bills 1-Y._x', 'LIBOR Rate 3-Mo._x', 'Baa COrp. Bond_x', 'Treas. Bills 6-Mo._x', 'Federal Funds Rate_x', 'State&Local Bonds_x', 'Home Mtg. Rate_x', 'Treas. Bills 3-Mo._x', 'Treas. Bills 2-Y._x', 'GDP Price Index_x', 'Read GDP_x', 'Treas. Bills 10-Y._x', \"Fed's Major Currency $ Index_x\"} in the result is deprecated and will raise a MergeError in a future version.\n",
            "  df1 = pd.merge(df1, df2, on=df1.columns[0], how='outer')\n"
          ]
        },
        {
          "output_type": "stream",
          "name": "stdout",
          "text": [
            "BCFF1112email.pdf Fourth Quarter 2012.xlsx\n",
            "BCFF1212email.pdf Fourth Quarter 2012.xlsx\n"
          ]
        },
        {
          "output_type": "stream",
          "name": "stderr",
          "text": [
            "<ipython-input-4-53c53cd9e278>:32: FutureWarning: Passing 'suffixes' which cause duplicate columns {'Prime Bank Rate_x', 'Treas. Bills 5-Y._x', 'Cons Price Index_x', 'Treas. Bills 30-Y._x', 'Aaa Corp. Bond_x', 'Com. Paper 1-Mo._x', 'Treas. Bills 1-Y._x', 'LIBOR Rate 3-Mo._x', 'Baa COrp. Bond_x', 'Treas. Bills 6-Mo._x', 'Federal Funds Rate_x', 'State&Local Bonds_x', 'Home Mtg. Rate_x', 'Treas. Bills 3-Mo._x', 'Treas. Bills 2-Y._x', 'GDP Price Index_x', 'Read GDP_x', 'Treas. Bills 10-Y._x', \"Fed's Major Currency $ Index_x\"} in the result is deprecated and will raise a MergeError in a future version.\n",
            "  df1 = pd.merge(df1, df2, on=df1.columns[0], how='outer')\n"
          ]
        },
        {
          "output_type": "stream",
          "name": "stdout",
          "text": [
            "BCFF0113email.pdf First Quarter 2013.xlsx\n",
            "BCFF0213email.pdf First Quarter 2013.xlsx\n",
            "BCFF0313email.pdf First Quarter 2013.xlsx\n",
            "BCFF0413email.pdf Second Quarter 2013.xlsx\n"
          ]
        },
        {
          "output_type": "stream",
          "name": "stderr",
          "text": [
            "<ipython-input-4-53c53cd9e278>:32: FutureWarning: Passing 'suffixes' which cause duplicate columns {'Prime Bank Rate_x', 'Treas. Bills 5-Y._x', 'Cons Price Index_x', 'Treas. Bills 30-Y._x', 'Aaa Corp. Bond_x', 'Com. Paper 1-Mo._x', 'Treas. Bills 1-Y._x', 'LIBOR Rate 3-Mo._x', 'Baa COrp. Bond_x', 'Treas. Bills 6-Mo._x', 'Federal Funds Rate_x', 'State&Local Bonds_x', 'Home Mtg. Rate_x', 'Treas. Bills 3-Mo._x', 'Treas. Bills 2-Y._x', 'GDP Price Index_x', 'Read GDP_x', 'Treas. Bills 10-Y._x', \"Fed's Major Currency $ Index_x\"} in the result is deprecated and will raise a MergeError in a future version.\n",
            "  df1 = pd.merge(df1, df2, on=df1.columns[0], how='outer')\n"
          ]
        },
        {
          "output_type": "stream",
          "name": "stdout",
          "text": [
            "BCFF0513email.pdf Second Quarter 2013.xlsx\n",
            "BCFF0613email.pdf Second Quarter 2013.xlsx\n"
          ]
        },
        {
          "output_type": "stream",
          "name": "stderr",
          "text": [
            "<ipython-input-4-53c53cd9e278>:32: FutureWarning: Passing 'suffixes' which cause duplicate columns {'Prime Bank Rate_x', 'Treas. Bills 5-Y._x', 'Cons Price Index_x', 'Treas. Bills 30-Y._x', 'Aaa Corp. Bond_x', 'Com. Paper 1-Mo._x', 'Treas. Bills 1-Y._x', 'LIBOR Rate 3-Mo._x', 'Baa COrp. Bond_x', 'Treas. Bills 6-Mo._x', 'Federal Funds Rate_x', 'State&Local Bonds_x', 'Home Mtg. Rate_x', 'Treas. Bills 3-Mo._x', 'Treas. Bills 2-Y._x', 'GDP Price Index_x', 'Read GDP_x', 'Treas. Bills 10-Y._x', \"Fed's Major Currency $ Index_x\"} in the result is deprecated and will raise a MergeError in a future version.\n",
            "  df1 = pd.merge(df1, df2, on=df1.columns[0], how='outer')\n"
          ]
        },
        {
          "output_type": "stream",
          "name": "stdout",
          "text": [
            "BCFF0713email.pdf Third Quarter 2013.xlsx\n",
            "BCFF0813email.pdf Third Quarter 2013.xlsx\n"
          ]
        },
        {
          "output_type": "stream",
          "name": "stderr",
          "text": [
            "<ipython-input-4-53c53cd9e278>:32: FutureWarning: Passing 'suffixes' which cause duplicate columns {'Prime Bank Rate_x', 'Treas. Bills 5-Y._x', 'Cons Price Index_x', 'Treas. Bills 30-Y._x', 'Aaa Corp. Bond_x', 'Com. Paper 1-Mo._x', 'Treas. Bills 1-Y._x', 'LIBOR Rate 3-Mo._x', 'Baa COrp. Bond_x', 'Treas. Bills 6-Mo._x', 'Federal Funds Rate_x', 'State&Local Bonds_x', 'Home Mtg. Rate_x', 'Treas. Bills 3-Mo._x', 'Treas. Bills 2-Y._x', 'GDP Price Index_x', 'Read GDP_x', 'Treas. Bills 10-Y._x', \"Fed's Major Currency $ Index_x\"} in the result is deprecated and will raise a MergeError in a future version.\n",
            "  df1 = pd.merge(df1, df2, on=df1.columns[0], how='outer')\n"
          ]
        },
        {
          "output_type": "stream",
          "name": "stdout",
          "text": [
            "BCFF0913email.pdf Third Quarter 2013.xlsx\n",
            "BCFF1013email.pdf Fourth Quarter 2013.xlsx\n"
          ]
        },
        {
          "output_type": "stream",
          "name": "stderr",
          "text": [
            "<ipython-input-4-53c53cd9e278>:32: FutureWarning: Passing 'suffixes' which cause duplicate columns {'Prime Bank Rate_x', 'Treas. Bills 5-Y._x', 'Cons Price Index_x', 'Treas. Bills 30-Y._x', 'Aaa Corp. Bond_x', 'Com. Paper 1-Mo._x', 'Treas. Bills 1-Y._x', 'LIBOR Rate 3-Mo._x', 'Baa COrp. Bond_x', 'Treas. Bills 6-Mo._x', 'Federal Funds Rate_x', 'State&Local Bonds_x', 'Home Mtg. Rate_x', 'Treas. Bills 3-Mo._x', 'Treas. Bills 2-Y._x', 'GDP Price Index_x', 'Read GDP_x', 'Treas. Bills 10-Y._x', \"Fed's Major Currency $ Index_x\"} in the result is deprecated and will raise a MergeError in a future version.\n",
            "  df1 = pd.merge(df1, df2, on=df1.columns[0], how='outer')\n"
          ]
        },
        {
          "output_type": "stream",
          "name": "stdout",
          "text": [
            "BCFF1113email.pdf Fourth Quarter 2013.xlsx\n",
            "BCFF1213email.pdf Fourth Quarter 2013.xlsx\n"
          ]
        },
        {
          "output_type": "stream",
          "name": "stderr",
          "text": [
            "<ipython-input-4-53c53cd9e278>:32: FutureWarning: Passing 'suffixes' which cause duplicate columns {'Prime Bank Rate_x', 'Treas. Bills 5-Y._x', 'Cons Price Index_x', 'Treas. Bills 30-Y._x', 'Aaa Corp. Bond_x', 'Com. Paper 1-Mo._x', 'Treas. Bills 1-Y._x', 'LIBOR Rate 3-Mo._x', 'Baa COrp. Bond_x', 'Treas. Bills 6-Mo._x', 'Federal Funds Rate_x', 'State&Local Bonds_x', 'Home Mtg. Rate_x', 'Treas. Bills 3-Mo._x', 'Treas. Bills 2-Y._x', 'GDP Price Index_x', 'Read GDP_x', 'Treas. Bills 10-Y._x', \"Fed's Major Currency $ Index_x\"} in the result is deprecated and will raise a MergeError in a future version.\n",
            "  df1 = pd.merge(df1, df2, on=df1.columns[0], how='outer')\n"
          ]
        },
        {
          "output_type": "stream",
          "name": "stdout",
          "text": [
            "BCFF0114email.pdf First Quarter 2014.xlsx\n",
            "BCFF0214email.pdf First Quarter 2014.xlsx\n",
            "BCFF0314email.pdf First Quarter 2014.xlsx\n",
            "BCFF0414email.pdf Second Quarter 2014.xlsx\n"
          ]
        },
        {
          "output_type": "stream",
          "name": "stderr",
          "text": [
            "<ipython-input-4-53c53cd9e278>:32: FutureWarning: Passing 'suffixes' which cause duplicate columns {'Prime Bank Rate_x', 'Treas. Bills 5-Y._x', 'Cons Price Index_x', 'Treas. Bills 30-Y._x', 'Aaa Corp. Bond_x', 'Com. Paper 1-Mo._x', 'Treas. Bills 1-Y._x', 'LIBOR Rate 3-Mo._x', 'Baa COrp. Bond_x', 'Treas. Bills 6-Mo._x', 'Federal Funds Rate_x', 'State&Local Bonds_x', 'Home Mtg. Rate_x', 'Treas. Bills 3-Mo._x', 'Treas. Bills 2-Y._x', 'GDP Price Index_x', 'Read GDP_x', 'Treas. Bills 10-Y._x', \"Fed's Major Currency $ Index_x\"} in the result is deprecated and will raise a MergeError in a future version.\n",
            "  df1 = pd.merge(df1, df2, on=df1.columns[0], how='outer')\n"
          ]
        },
        {
          "output_type": "stream",
          "name": "stdout",
          "text": [
            "BCFF0514email.pdf Second Quarter 2014.xlsx\n",
            "BCFF0614email.pdf Second Quarter 2014.xlsx\n"
          ]
        },
        {
          "output_type": "stream",
          "name": "stderr",
          "text": [
            "<ipython-input-4-53c53cd9e278>:32: FutureWarning: Passing 'suffixes' which cause duplicate columns {'Prime Bank Rate_x', 'Treas. Bills 5-Y._x', 'Cons Price Index_x', 'Treas. Bills 30-Y._x', 'Aaa Corp. Bond_x', 'Com. Paper 1-Mo._x', 'Treas. Bills 1-Y._x', 'LIBOR Rate 3-Mo._x', 'Baa COrp. Bond_x', 'Treas. Bills 6-Mo._x', 'Federal Funds Rate_x', 'State&Local Bonds_x', 'Home Mtg. Rate_x', 'Treas. Bills 3-Mo._x', 'Treas. Bills 2-Y._x', 'GDP Price Index_x', 'Read GDP_x', 'Treas. Bills 10-Y._x', \"Fed's Major Currency $ Index_x\"} in the result is deprecated and will raise a MergeError in a future version.\n",
            "  df1 = pd.merge(df1, df2, on=df1.columns[0], how='outer')\n"
          ]
        },
        {
          "output_type": "stream",
          "name": "stdout",
          "text": [
            "BCFF0714email.pdf Third Quarter 2014.xlsx\n",
            "BCFF0814email.pdf Third Quarter 2014.xlsx\n"
          ]
        },
        {
          "output_type": "stream",
          "name": "stderr",
          "text": [
            "<ipython-input-4-53c53cd9e278>:32: FutureWarning: Passing 'suffixes' which cause duplicate columns {'Prime Bank Rate_x', 'Treas. Bills 5-Y._x', 'Cons Price Index_x', 'Treas. Bills 30-Y._x', 'Aaa Corp. Bond_x', 'Com. Paper 1-Mo._x', 'Treas. Bills 1-Y._x', 'LIBOR Rate 3-Mo._x', 'Baa COrp. Bond_x', 'Treas. Bills 6-Mo._x', 'Federal Funds Rate_x', 'State&Local Bonds_x', 'Home Mtg. Rate_x', 'Treas. Bills 3-Mo._x', 'Treas. Bills 2-Y._x', 'GDP Price Index_x', 'Read GDP_x', 'Treas. Bills 10-Y._x', \"Fed's Major Currency $ Index_x\"} in the result is deprecated and will raise a MergeError in a future version.\n",
            "  df1 = pd.merge(df1, df2, on=df1.columns[0], how='outer')\n"
          ]
        },
        {
          "output_type": "stream",
          "name": "stdout",
          "text": [
            "BCFF0914email.pdf Third Quarter 2014.xlsx\n",
            "BCFF1014email.pdf Fourth Quarter 2014.xlsx\n"
          ]
        },
        {
          "output_type": "stream",
          "name": "stderr",
          "text": [
            "<ipython-input-4-53c53cd9e278>:32: FutureWarning: Passing 'suffixes' which cause duplicate columns {'Prime Bank Rate_x', 'Treas. Bills 5-Y._x', 'Cons Price Index_x', 'Treas. Bills 30-Y._x', 'Aaa Corp. Bond_x', 'Com. Paper 1-Mo._x', 'Treas. Bills 1-Y._x', 'LIBOR Rate 3-Mo._x', 'Baa COrp. Bond_x', 'Treas. Bills 6-Mo._x', 'Federal Funds Rate_x', 'State&Local Bonds_x', 'Home Mtg. Rate_x', 'Treas. Bills 3-Mo._x', 'Treas. Bills 2-Y._x', 'GDP Price Index_x', 'Read GDP_x', 'Treas. Bills 10-Y._x', \"Fed's Major Currency $ Index_x\"} in the result is deprecated and will raise a MergeError in a future version.\n",
            "  df1 = pd.merge(df1, df2, on=df1.columns[0], how='outer')\n"
          ]
        },
        {
          "output_type": "stream",
          "name": "stdout",
          "text": [
            "BCFF1114email.pdf Fourth Quarter 2014.xlsx\n",
            "CorrectedBCFF1214email.pdf Fourth Quarter 2014.xlsx\n"
          ]
        },
        {
          "output_type": "stream",
          "name": "stderr",
          "text": [
            "<ipython-input-4-53c53cd9e278>:32: FutureWarning: Passing 'suffixes' which cause duplicate columns {'Prime Bank Rate_x', 'Treas. Bills 5-Y._x', 'Cons Price Index_x', 'Treas. Bills 30-Y._x', 'Aaa Corp. Bond_x', 'Com. Paper 1-Mo._x', 'Treas. Bills 1-Y._x', 'LIBOR Rate 3-Mo._x', 'Baa COrp. Bond_x', 'Treas. Bills 6-Mo._x', 'Federal Funds Rate_x', 'State&Local Bonds_x', 'Home Mtg. Rate_x', 'Treas. Bills 3-Mo._x', 'Treas. Bills 2-Y._x', 'GDP Price Index_x', 'Read GDP_x', 'Treas. Bills 10-Y._x', \"Fed's Major Currency $ Index_x\"} in the result is deprecated and will raise a MergeError in a future version.\n",
            "  df1 = pd.merge(df1, df2, on=df1.columns[0], how='outer')\n"
          ]
        },
        {
          "output_type": "stream",
          "name": "stdout",
          "text": [
            "BCFF0115email.pdf First Quarter 2015.xlsx\n",
            "BCFF0215email.pdf First Quarter 2015.xlsx\n",
            "BCFF0315email.pdf First Quarter 2015.xlsx\n",
            "BCFF0415email.pdf Second Quarter 2015.xlsx\n"
          ]
        },
        {
          "output_type": "stream",
          "name": "stderr",
          "text": [
            "<ipython-input-4-53c53cd9e278>:32: FutureWarning: Passing 'suffixes' which cause duplicate columns {'Prime Bank Rate_x', 'Treas. Bills 5-Y._x', 'Cons Price Index_x', 'Treas. Bills 30-Y._x', 'Aaa Corp. Bond_x', 'Com. Paper 1-Mo._x', 'Treas. Bills 1-Y._x', 'LIBOR Rate 3-Mo._x', 'Baa COrp. Bond_x', 'Treas. Bills 6-Mo._x', 'Federal Funds Rate_x', 'State&Local Bonds_x', 'Home Mtg. Rate_x', 'Treas. Bills 3-Mo._x', 'Treas. Bills 2-Y._x', 'GDP Price Index_x', 'Read GDP_x', 'Treas. Bills 10-Y._x', \"Fed's Major Currency $ Index_x\"} in the result is deprecated and will raise a MergeError in a future version.\n",
            "  df1 = pd.merge(df1, df2, on=df1.columns[0], how='outer')\n"
          ]
        },
        {
          "output_type": "stream",
          "name": "stdout",
          "text": [
            "BCFF0515email.pdf Second Quarter 2015.xlsx\n",
            "BCFF0615email.pdf Second Quarter 2015.xlsx\n"
          ]
        },
        {
          "output_type": "stream",
          "name": "stderr",
          "text": [
            "<ipython-input-4-53c53cd9e278>:32: FutureWarning: Passing 'suffixes' which cause duplicate columns {'Prime Bank Rate_x', 'Treas. Bills 5-Y._x', 'Cons Price Index_x', 'Treas. Bills 30-Y._x', 'Aaa Corp. Bond_x', 'Com. Paper 1-Mo._x', 'Treas. Bills 1-Y._x', 'LIBOR Rate 3-Mo._x', 'Baa COrp. Bond_x', 'Treas. Bills 6-Mo._x', 'Federal Funds Rate_x', 'State&Local Bonds_x', 'Home Mtg. Rate_x', 'Treas. Bills 3-Mo._x', 'Treas. Bills 2-Y._x', 'GDP Price Index_x', 'Read GDP_x', 'Treas. Bills 10-Y._x', \"Fed's Major Currency $ Index_x\"} in the result is deprecated and will raise a MergeError in a future version.\n",
            "  df1 = pd.merge(df1, df2, on=df1.columns[0], how='outer')\n"
          ]
        },
        {
          "output_type": "stream",
          "name": "stdout",
          "text": [
            "BCFF0715email.pdf Third Quarter 2015.xlsx\n",
            "BCFF0815email.pdf Third Quarter 2015.xlsx\n"
          ]
        },
        {
          "output_type": "stream",
          "name": "stderr",
          "text": [
            "<ipython-input-4-53c53cd9e278>:32: FutureWarning: Passing 'suffixes' which cause duplicate columns {'Prime Bank Rate_x', 'Treas. Bills 5-Y._x', 'Cons Price Index_x', 'Treas. Bills 30-Y._x', 'Aaa Corp. Bond_x', 'Com. Paper 1-Mo._x', 'Treas. Bills 1-Y._x', 'LIBOR Rate 3-Mo._x', 'Baa COrp. Bond_x', 'Treas. Bills 6-Mo._x', 'Federal Funds Rate_x', 'State&Local Bonds_x', 'Home Mtg. Rate_x', 'Treas. Bills 3-Mo._x', 'Treas. Bills 2-Y._x', 'GDP Price Index_x', 'Read GDP_x', 'Treas. Bills 10-Y._x', \"Fed's Major Currency $ Index_x\"} in the result is deprecated and will raise a MergeError in a future version.\n",
            "  df1 = pd.merge(df1, df2, on=df1.columns[0], how='outer')\n"
          ]
        },
        {
          "output_type": "stream",
          "name": "stdout",
          "text": [
            "BCFF0915email.pdf Third Quarter 2015.xlsx\n",
            "BCFF1015email.pdf Fourth Quarter 2015.xlsx\n"
          ]
        },
        {
          "output_type": "stream",
          "name": "stderr",
          "text": [
            "<ipython-input-4-53c53cd9e278>:32: FutureWarning: Passing 'suffixes' which cause duplicate columns {'Prime Bank Rate_x', 'Treas. Bills 5-Y._x', 'Cons Price Index_x', 'Treas. Bills 30-Y._x', 'Aaa Corp. Bond_x', 'Com. Paper 1-Mo._x', 'Treas. Bills 1-Y._x', 'LIBOR Rate 3-Mo._x', 'Baa COrp. Bond_x', 'Treas. Bills 6-Mo._x', 'Federal Funds Rate_x', 'State&Local Bonds_x', 'Home Mtg. Rate_x', 'Treas. Bills 3-Mo._x', 'Treas. Bills 2-Y._x', 'GDP Price Index_x', 'Read GDP_x', 'Treas. Bills 10-Y._x', \"Fed's Major Currency $ Index_x\"} in the result is deprecated and will raise a MergeError in a future version.\n",
            "  df1 = pd.merge(df1, df2, on=df1.columns[0], how='outer')\n"
          ]
        },
        {
          "output_type": "stream",
          "name": "stdout",
          "text": [
            "BCFF1115email.pdf Fourth Quarter 2015.xlsx\n",
            "BCFF1215email.pdf Fourth Quarter 2015.xlsx\n"
          ]
        },
        {
          "output_type": "stream",
          "name": "stderr",
          "text": [
            "<ipython-input-4-53c53cd9e278>:32: FutureWarning: Passing 'suffixes' which cause duplicate columns {'Prime Bank Rate_x', 'Treas. Bills 5-Y._x', 'Cons Price Index_x', 'Treas. Bills 30-Y._x', 'Aaa Corp. Bond_x', 'Com. Paper 1-Mo._x', 'Treas. Bills 1-Y._x', 'LIBOR Rate 3-Mo._x', 'Baa COrp. Bond_x', 'Treas. Bills 6-Mo._x', 'Federal Funds Rate_x', 'State&Local Bonds_x', 'Home Mtg. Rate_x', 'Treas. Bills 3-Mo._x', 'Treas. Bills 2-Y._x', 'GDP Price Index_x', 'Read GDP_x', 'Treas. Bills 10-Y._x', \"Fed's Major Currency $ Index_x\"} in the result is deprecated and will raise a MergeError in a future version.\n",
            "  df1 = pd.merge(df1, df2, on=df1.columns[0], how='outer')\n"
          ]
        },
        {
          "output_type": "stream",
          "name": "stdout",
          "text": [
            "BCFF0116email.pdf First Quarter 2016.xlsx\n",
            "BCFF0216email.pdf First Quarter 2016.xlsx\n",
            "BCFF0316email.pdf First Quarter 2016.xlsx\n",
            "BCFF0416email.pdf Second Quarter 2016.xlsx\n"
          ]
        },
        {
          "output_type": "stream",
          "name": "stderr",
          "text": [
            "<ipython-input-4-53c53cd9e278>:32: FutureWarning: Passing 'suffixes' which cause duplicate columns {'Prime Bank Rate_x', 'Treas. Bills 5-Y._x', 'Cons Price Index_x', 'Treas. Bills 30-Y._x', 'Aaa Corp. Bond_x', 'Com. Paper 1-Mo._x', 'Treas. Bills 1-Y._x', 'LIBOR Rate 3-Mo._x', 'Baa COrp. Bond_x', 'Treas. Bills 6-Mo._x', 'Federal Funds Rate_x', 'State&Local Bonds_x', 'Home Mtg. Rate_x', 'Treas. Bills 3-Mo._x', 'Treas. Bills 2-Y._x', 'GDP Price Index_x', 'Read GDP_x', 'Treas. Bills 10-Y._x', \"Fed's Major Currency $ Index_x\"} in the result is deprecated and will raise a MergeError in a future version.\n",
            "  df1 = pd.merge(df1, df2, on=df1.columns[0], how='outer')\n"
          ]
        },
        {
          "output_type": "stream",
          "name": "stdout",
          "text": [
            "BCFF0516email.pdf Second Quarter 2016.xlsx\n",
            "BCFF0616email.pdf Second Quarter 2016.xlsx\n"
          ]
        },
        {
          "output_type": "stream",
          "name": "stderr",
          "text": [
            "<ipython-input-4-53c53cd9e278>:32: FutureWarning: Passing 'suffixes' which cause duplicate columns {'Prime Bank Rate_x', 'Treas. Bills 5-Y._x', 'Cons Price Index_x', 'Treas. Bills 30-Y._x', 'Aaa Corp. Bond_x', 'Com. Paper 1-Mo._x', 'Treas. Bills 1-Y._x', 'LIBOR Rate 3-Mo._x', 'Baa COrp. Bond_x', 'Treas. Bills 6-Mo._x', 'Federal Funds Rate_x', 'State&Local Bonds_x', 'Home Mtg. Rate_x', 'Treas. Bills 3-Mo._x', 'Treas. Bills 2-Y._x', 'GDP Price Index_x', 'Read GDP_x', 'Treas. Bills 10-Y._x', \"Fed's Major Currency $ Index_x\"} in the result is deprecated and will raise a MergeError in a future version.\n",
            "  df1 = pd.merge(df1, df2, on=df1.columns[0], how='outer')\n"
          ]
        },
        {
          "output_type": "stream",
          "name": "stdout",
          "text": [
            "BCFF0716email.pdf Third Quarter 2016.xlsx\n",
            "BCFF0816email.pdf Third Quarter 2016.xlsx\n"
          ]
        },
        {
          "output_type": "stream",
          "name": "stderr",
          "text": [
            "<ipython-input-4-53c53cd9e278>:32: FutureWarning: Passing 'suffixes' which cause duplicate columns {'Prime Bank Rate_x', 'Treas. Bills 5-Y._x', 'Cons Price Index_x', 'Treas. Bills 30-Y._x', 'Aaa Corp. Bond_x', 'Com. Paper 1-Mo._x', 'Treas. Bills 1-Y._x', 'LIBOR Rate 3-Mo._x', 'Baa COrp. Bond_x', 'Treas. Bills 6-Mo._x', 'Federal Funds Rate_x', 'State&Local Bonds_x', 'Home Mtg. Rate_x', 'Treas. Bills 3-Mo._x', 'Treas. Bills 2-Y._x', 'GDP Price Index_x', 'Read GDP_x', 'Treas. Bills 10-Y._x', \"Fed's Major Currency $ Index_x\"} in the result is deprecated and will raise a MergeError in a future version.\n",
            "  df1 = pd.merge(df1, df2, on=df1.columns[0], how='outer')\n"
          ]
        },
        {
          "output_type": "stream",
          "name": "stdout",
          "text": [
            "BCFF0916email.pdf Third Quarter 2016.xlsx\n",
            "BCFF1016email.pdf Fourth Quarter 2016.xlsx\n"
          ]
        },
        {
          "output_type": "stream",
          "name": "stderr",
          "text": [
            "<ipython-input-4-53c53cd9e278>:32: FutureWarning: Passing 'suffixes' which cause duplicate columns {'Prime Bank Rate_x', 'Treas. Bills 5-Y._x', 'Cons Price Index_x', 'Treas. Bills 30-Y._x', 'Aaa Corp. Bond_x', 'Com. Paper 1-Mo._x', 'Treas. Bills 1-Y._x', 'LIBOR Rate 3-Mo._x', 'Baa COrp. Bond_x', 'Treas. Bills 6-Mo._x', 'Federal Funds Rate_x', 'State&Local Bonds_x', 'Home Mtg. Rate_x', 'Treas. Bills 3-Mo._x', 'Treas. Bills 2-Y._x', 'GDP Price Index_x', 'Read GDP_x', 'Treas. Bills 10-Y._x', \"Fed's Major Currency $ Index_x\"} in the result is deprecated and will raise a MergeError in a future version.\n",
            "  df1 = pd.merge(df1, df2, on=df1.columns[0], how='outer')\n"
          ]
        },
        {
          "output_type": "stream",
          "name": "stdout",
          "text": [
            "BCFF1116email.pdf Fourth Quarter 2016.xlsx\n",
            "BCFF1216email.pdf Fourth Quarter 2016.xlsx\n"
          ]
        },
        {
          "output_type": "stream",
          "name": "stderr",
          "text": [
            "<ipython-input-4-53c53cd9e278>:32: FutureWarning: Passing 'suffixes' which cause duplicate columns {'Prime Bank Rate_x', 'Treas. Bills 5-Y._x', 'Cons Price Index_x', 'Treas. Bills 30-Y._x', 'Aaa Corp. Bond_x', 'Com. Paper 1-Mo._x', 'Treas. Bills 1-Y._x', 'LIBOR Rate 3-Mo._x', 'Baa COrp. Bond_x', 'Treas. Bills 6-Mo._x', 'Federal Funds Rate_x', 'State&Local Bonds_x', 'Home Mtg. Rate_x', 'Treas. Bills 3-Mo._x', 'Treas. Bills 2-Y._x', 'GDP Price Index_x', 'Read GDP_x', 'Treas. Bills 10-Y._x', \"Fed's Major Currency $ Index_x\"} in the result is deprecated and will raise a MergeError in a future version.\n",
            "  df1 = pd.merge(df1, df2, on=df1.columns[0], how='outer')\n"
          ]
        },
        {
          "output_type": "stream",
          "name": "stdout",
          "text": [
            "BCFF0117email.pdf First Quarter 2017.xlsx\n",
            "BCFF0217email.pdf First Quarter 2017.xlsx\n",
            "BCFF0317email.pdf First Quarter 2017.xlsx\n",
            "BCFF0417email.pdf Second Quarter 2017.xlsx\n"
          ]
        },
        {
          "output_type": "stream",
          "name": "stderr",
          "text": [
            "<ipython-input-4-53c53cd9e278>:32: FutureWarning: Passing 'suffixes' which cause duplicate columns {'Prime Bank Rate_x', 'Treas. Bills 5-Y._x', 'Cons Price Index_x', 'Treas. Bills 30-Y._x', 'Aaa Corp. Bond_x', 'Com. Paper 1-Mo._x', 'Treas. Bills 1-Y._x', 'LIBOR Rate 3-Mo._x', 'Baa COrp. Bond_x', 'Treas. Bills 6-Mo._x', 'Federal Funds Rate_x', 'State&Local Bonds_x', 'Home Mtg. Rate_x', 'Treas. Bills 3-Mo._x', 'Treas. Bills 2-Y._x', 'GDP Price Index_x', 'Read GDP_x', 'Treas. Bills 10-Y._x', \"Fed's Major Currency $ Index_x\"} in the result is deprecated and will raise a MergeError in a future version.\n",
            "  df1 = pd.merge(df1, df2, on=df1.columns[0], how='outer')\n"
          ]
        },
        {
          "output_type": "stream",
          "name": "stdout",
          "text": [
            "BCFF0517email.pdf Second Quarter 2017.xlsx\n",
            "BCFF0617email.pdf Second Quarter 2017.xlsx\n"
          ]
        },
        {
          "output_type": "stream",
          "name": "stderr",
          "text": [
            "<ipython-input-4-53c53cd9e278>:32: FutureWarning: Passing 'suffixes' which cause duplicate columns {'Prime Bank Rate_x', 'Treas. Bills 5-Y._x', 'Cons Price Index_x', 'Treas. Bills 30-Y._x', 'Aaa Corp. Bond_x', 'Com. Paper 1-Mo._x', 'Treas. Bills 1-Y._x', 'LIBOR Rate 3-Mo._x', 'Baa COrp. Bond_x', 'Treas. Bills 6-Mo._x', 'Federal Funds Rate_x', 'State&Local Bonds_x', 'Home Mtg. Rate_x', 'Treas. Bills 3-Mo._x', 'Treas. Bills 2-Y._x', 'GDP Price Index_x', 'Read GDP_x', 'Treas. Bills 10-Y._x', \"Fed's Major Currency $ Index_x\"} in the result is deprecated and will raise a MergeError in a future version.\n",
            "  df1 = pd.merge(df1, df2, on=df1.columns[0], how='outer')\n"
          ]
        },
        {
          "output_type": "stream",
          "name": "stdout",
          "text": [
            "BCFF0717email.pdf Third Quarter 2017.xlsx\n",
            "BCFF0817email.pdf Third Quarter 2017.xlsx\n"
          ]
        },
        {
          "output_type": "stream",
          "name": "stderr",
          "text": [
            "<ipython-input-4-53c53cd9e278>:32: FutureWarning: Passing 'suffixes' which cause duplicate columns {'Prime Bank Rate_x', 'Treas. Bills 5-Y._x', 'Cons Price Index_x', 'Treas. Bills 30-Y._x', 'Aaa Corp. Bond_x', 'Com. Paper 1-Mo._x', 'Treas. Bills 1-Y._x', 'LIBOR Rate 3-Mo._x', 'Baa COrp. Bond_x', 'Treas. Bills 6-Mo._x', 'Federal Funds Rate_x', 'State&Local Bonds_x', 'Home Mtg. Rate_x', 'Treas. Bills 3-Mo._x', 'Treas. Bills 2-Y._x', 'GDP Price Index_x', 'Read GDP_x', 'Treas. Bills 10-Y._x', \"Fed's Major Currency $ Index_x\"} in the result is deprecated and will raise a MergeError in a future version.\n",
            "  df1 = pd.merge(df1, df2, on=df1.columns[0], how='outer')\n"
          ]
        },
        {
          "output_type": "stream",
          "name": "stdout",
          "text": [
            "BCFF0917email.pdf Third Quarter 2017.xlsx\n",
            "BCFF1017email.pdf Fourth Quarter 2017.xlsx\n"
          ]
        },
        {
          "output_type": "stream",
          "name": "stderr",
          "text": [
            "<ipython-input-4-53c53cd9e278>:32: FutureWarning: Passing 'suffixes' which cause duplicate columns {'Prime Bank Rate_x', 'Treas. Bills 5-Y._x', 'Cons Price Index_x', 'Treas. Bills 30-Y._x', 'Aaa Corp. Bond_x', 'Com. Paper 1-Mo._x', 'Treas. Bills 1-Y._x', 'LIBOR Rate 3-Mo._x', 'Baa COrp. Bond_x', 'Treas. Bills 6-Mo._x', 'Federal Funds Rate_x', 'State&Local Bonds_x', 'Home Mtg. Rate_x', 'Treas. Bills 3-Mo._x', 'Treas. Bills 2-Y._x', 'GDP Price Index_x', 'Read GDP_x', 'Treas. Bills 10-Y._x', \"Fed's Major Currency $ Index_x\"} in the result is deprecated and will raise a MergeError in a future version.\n",
            "  df1 = pd.merge(df1, df2, on=df1.columns[0], how='outer')\n"
          ]
        },
        {
          "output_type": "stream",
          "name": "stdout",
          "text": [
            "BCFF1117email.pdf Fourth Quarter 2017.xlsx\n",
            "BCFF1217email.pdf Fourth Quarter 2017.xlsx\n"
          ]
        },
        {
          "output_type": "stream",
          "name": "stderr",
          "text": [
            "<ipython-input-4-53c53cd9e278>:32: FutureWarning: Passing 'suffixes' which cause duplicate columns {'Prime Bank Rate_x', 'Treas. Bills 5-Y._x', 'Cons Price Index_x', 'Treas. Bills 30-Y._x', 'Aaa Corp. Bond_x', 'Com. Paper 1-Mo._x', 'Treas. Bills 1-Y._x', 'LIBOR Rate 3-Mo._x', 'Baa COrp. Bond_x', 'Treas. Bills 6-Mo._x', 'Federal Funds Rate_x', 'State&Local Bonds_x', 'Home Mtg. Rate_x', 'Treas. Bills 3-Mo._x', 'Treas. Bills 2-Y._x', 'GDP Price Index_x', 'Read GDP_x', 'Treas. Bills 10-Y._x', \"Fed's Major Currency $ Index_x\"} in the result is deprecated and will raise a MergeError in a future version.\n",
            "  df1 = pd.merge(df1, df2, on=df1.columns[0], how='outer')\n"
          ]
        },
        {
          "output_type": "stream",
          "name": "stdout",
          "text": [
            "BCFF0118email.pdf First Quarter 2018.xlsx\n",
            "BCFF0218email.pdf First Quarter 2018.xlsx\n",
            "BCFF0318email.pdf First Quarter 2018.xlsx\n",
            "BCFF0418email.pdf Second Quarter 2018.xlsx\n"
          ]
        },
        {
          "output_type": "stream",
          "name": "stderr",
          "text": [
            "<ipython-input-4-53c53cd9e278>:32: FutureWarning: Passing 'suffixes' which cause duplicate columns {'Prime Bank Rate_x', 'Treas. Bills 5-Y._x', 'Cons Price Index_x', 'Treas. Bills 30-Y._x', 'Aaa Corp. Bond_x', 'Com. Paper 1-Mo._x', 'Treas. Bills 1-Y._x', 'LIBOR Rate 3-Mo._x', 'Baa COrp. Bond_x', 'Treas. Bills 6-Mo._x', 'Federal Funds Rate_x', 'State&Local Bonds_x', 'Home Mtg. Rate_x', 'Treas. Bills 3-Mo._x', 'Treas. Bills 2-Y._x', 'GDP Price Index_x', 'Read GDP_x', 'Treas. Bills 10-Y._x', \"Fed's Major Currency $ Index_x\"} in the result is deprecated and will raise a MergeError in a future version.\n",
            "  df1 = pd.merge(df1, df2, on=df1.columns[0], how='outer')\n"
          ]
        },
        {
          "output_type": "stream",
          "name": "stdout",
          "text": [
            "BCFF0518email.pdf Second Quarter 2018.xlsx\n",
            "BCFF0618email.pdf Second Quarter 2018.xlsx\n"
          ]
        },
        {
          "output_type": "stream",
          "name": "stderr",
          "text": [
            "<ipython-input-4-53c53cd9e278>:32: FutureWarning: Passing 'suffixes' which cause duplicate columns {'Prime Bank Rate_x', 'Treas. Bills 5-Y._x', 'Cons Price Index_x', 'Treas. Bills 30-Y._x', 'Aaa Corp. Bond_x', 'Com. Paper 1-Mo._x', 'Treas. Bills 1-Y._x', 'LIBOR Rate 3-Mo._x', 'Baa COrp. Bond_x', 'Treas. Bills 6-Mo._x', 'Federal Funds Rate_x', 'State&Local Bonds_x', 'Home Mtg. Rate_x', 'Treas. Bills 3-Mo._x', 'Treas. Bills 2-Y._x', 'GDP Price Index_x', 'Read GDP_x', 'Treas. Bills 10-Y._x', \"Fed's Major Currency $ Index_x\"} in the result is deprecated and will raise a MergeError in a future version.\n",
            "  df1 = pd.merge(df1, df2, on=df1.columns[0], how='outer')\n"
          ]
        },
        {
          "output_type": "stream",
          "name": "stdout",
          "text": [
            "BCFF0718email.pdf Third Quarter 2018.xlsx\n",
            "BCFF0818email.pdf Third Quarter 2018.xlsx\n"
          ]
        },
        {
          "output_type": "stream",
          "name": "stderr",
          "text": [
            "<ipython-input-4-53c53cd9e278>:32: FutureWarning: Passing 'suffixes' which cause duplicate columns {'Prime Bank Rate_x', 'Treas. Bills 5-Y._x', 'Cons Price Index_x', 'Treas. Bills 30-Y._x', 'Aaa Corp. Bond_x', 'Com. Paper 1-Mo._x', 'Treas. Bills 1-Y._x', 'LIBOR Rate 3-Mo._x', 'Baa COrp. Bond_x', 'Treas. Bills 6-Mo._x', 'Federal Funds Rate_x', 'State&Local Bonds_x', 'Home Mtg. Rate_x', 'Treas. Bills 3-Mo._x', 'Treas. Bills 2-Y._x', 'GDP Price Index_x', 'Read GDP_x', 'Treas. Bills 10-Y._x', \"Fed's Major Currency $ Index_x\"} in the result is deprecated and will raise a MergeError in a future version.\n",
            "  df1 = pd.merge(df1, df2, on=df1.columns[0], how='outer')\n"
          ]
        },
        {
          "output_type": "stream",
          "name": "stdout",
          "text": [
            "BCFF0918email.pdf Third Quarter 2018.xlsx\n",
            "BCFF1018email.pdf Fourth Quarter 2018.xlsx\n"
          ]
        },
        {
          "output_type": "stream",
          "name": "stderr",
          "text": [
            "<ipython-input-4-53c53cd9e278>:32: FutureWarning: Passing 'suffixes' which cause duplicate columns {'Prime Bank Rate_x', 'Treas. Bills 5-Y._x', 'Cons Price Index_x', 'Treas. Bills 30-Y._x', 'Aaa Corp. Bond_x', 'Com. Paper 1-Mo._x', 'Treas. Bills 1-Y._x', 'LIBOR Rate 3-Mo._x', 'Baa COrp. Bond_x', 'Treas. Bills 6-Mo._x', 'Federal Funds Rate_x', 'State&Local Bonds_x', 'Home Mtg. Rate_x', 'Treas. Bills 3-Mo._x', 'Treas. Bills 2-Y._x', 'GDP Price Index_x', 'Read GDP_x', 'Treas. Bills 10-Y._x', \"Fed's Major Currency $ Index_x\"} in the result is deprecated and will raise a MergeError in a future version.\n",
            "  df1 = pd.merge(df1, df2, on=df1.columns[0], how='outer')\n"
          ]
        },
        {
          "output_type": "stream",
          "name": "stdout",
          "text": [
            "BCFF1118email.pdf Fourth Quarter 2018.xlsx\n",
            "BCFF1218email.pdf Fourth Quarter 2018.xlsx\n"
          ]
        },
        {
          "output_type": "stream",
          "name": "stderr",
          "text": [
            "<ipython-input-4-53c53cd9e278>:32: FutureWarning: Passing 'suffixes' which cause duplicate columns {'Prime Bank Rate_x', 'Treas. Bills 5-Y._x', 'Cons Price Index_x', 'Treas. Bills 30-Y._x', 'Aaa Corp. Bond_x', 'Com. Paper 1-Mo._x', 'Treas. Bills 1-Y._x', 'LIBOR Rate 3-Mo._x', 'Baa COrp. Bond_x', 'Treas. Bills 6-Mo._x', 'Federal Funds Rate_x', 'State&Local Bonds_x', 'Home Mtg. Rate_x', 'Treas. Bills 3-Mo._x', 'Treas. Bills 2-Y._x', 'GDP Price Index_x', 'Read GDP_x', 'Treas. Bills 10-Y._x', \"Fed's Major Currency $ Index_x\"} in the result is deprecated and will raise a MergeError in a future version.\n",
            "  df1 = pd.merge(df1, df2, on=df1.columns[0], how='outer')\n"
          ]
        },
        {
          "output_type": "stream",
          "name": "stdout",
          "text": [
            "BCFF0119email.pdf First Quarter 2019.xlsx\n",
            "BCFF0219email.pdf First Quarter 2019.xlsx\n",
            "BCFF0319email.pdf First Quarter 2019.xlsx\n",
            "BCFF0419email.pdf Second Quarter 2019.xlsx\n"
          ]
        },
        {
          "output_type": "stream",
          "name": "stderr",
          "text": [
            "<ipython-input-4-53c53cd9e278>:32: FutureWarning: Passing 'suffixes' which cause duplicate columns {'Prime Bank Rate_x', 'Treas. Bills 5-Y._x', 'Cons Price Index_x', 'Treas. Bills 30-Y._x', 'Aaa Corp. Bond_x', 'Com. Paper 1-Mo._x', 'Treas. Bills 1-Y._x', 'LIBOR Rate 3-Mo._x', 'Baa COrp. Bond_x', 'Treas. Bills 6-Mo._x', 'Federal Funds Rate_x', 'State&Local Bonds_x', 'Home Mtg. Rate_x', 'Treas. Bills 3-Mo._x', 'Treas. Bills 2-Y._x', 'GDP Price Index_x', 'Read GDP_x', 'Treas. Bills 10-Y._x', \"Fed's Major Currency $ Index_x\"} in the result is deprecated and will raise a MergeError in a future version.\n",
            "  df1 = pd.merge(df1, df2, on=df1.columns[0], how='outer')\n"
          ]
        },
        {
          "output_type": "stream",
          "name": "stdout",
          "text": [
            "BCFF0519email.pdf Second Quarter 2019.xlsx\n",
            "BCFF0619email.pdf Second Quarter 2019.xlsx\n"
          ]
        },
        {
          "output_type": "stream",
          "name": "stderr",
          "text": [
            "<ipython-input-4-53c53cd9e278>:32: FutureWarning: Passing 'suffixes' which cause duplicate columns {'Prime Bank Rate_x', 'Treas. Bills 5-Y._x', 'Cons Price Index_x', 'Treas. Bills 30-Y._x', 'Aaa Corp. Bond_x', 'Com. Paper 1-Mo._x', 'Treas. Bills 1-Y._x', 'LIBOR Rate 3-Mo._x', 'Baa COrp. Bond_x', 'Treas. Bills 6-Mo._x', 'Federal Funds Rate_x', 'State&Local Bonds_x', 'Home Mtg. Rate_x', 'Treas. Bills 3-Mo._x', 'Treas. Bills 2-Y._x', 'GDP Price Index_x', 'Read GDP_x', 'Treas. Bills 10-Y._x', \"Fed's Major Currency $ Index_x\"} in the result is deprecated and will raise a MergeError in a future version.\n",
            "  df1 = pd.merge(df1, df2, on=df1.columns[0], how='outer')\n"
          ]
        },
        {
          "output_type": "stream",
          "name": "stdout",
          "text": [
            "BCFF0719email.pdf Third Quarter 2019.xlsx\n",
            "BCFF0819email.pdf Third Quarter 2019.xlsx\n"
          ]
        },
        {
          "output_type": "stream",
          "name": "stderr",
          "text": [
            "<ipython-input-4-53c53cd9e278>:32: FutureWarning: Passing 'suffixes' which cause duplicate columns {'Prime Bank Rate_x', 'Treas. Bills 5-Y._x', 'Cons Price Index_x', 'Treas. Bills 30-Y._x', 'Aaa Corp. Bond_x', 'Com. Paper 1-Mo._x', 'Treas. Bills 1-Y._x', 'LIBOR Rate 3-Mo._x', 'Baa COrp. Bond_x', 'Treas. Bills 6-Mo._x', 'Federal Funds Rate_x', 'State&Local Bonds_x', 'Home Mtg. Rate_x', 'Treas. Bills 3-Mo._x', 'Treas. Bills 2-Y._x', 'GDP Price Index_x', 'Read GDP_x', 'Treas. Bills 10-Y._x', \"Fed's Major Currency $ Index_x\"} in the result is deprecated and will raise a MergeError in a future version.\n",
            "  df1 = pd.merge(df1, df2, on=df1.columns[0], how='outer')\n"
          ]
        },
        {
          "output_type": "stream",
          "name": "stdout",
          "text": [
            "BCFF0919email.pdf Third Quarter 2019.xlsx\n",
            "BCFF1019email.pdf Fourth Quarter 2019.xlsx\n"
          ]
        },
        {
          "output_type": "stream",
          "name": "stderr",
          "text": [
            "<ipython-input-4-53c53cd9e278>:32: FutureWarning: Passing 'suffixes' which cause duplicate columns {'Prime Bank Rate_x', 'Treas. Bills 5-Y._x', 'Cons Price Index_x', 'Treas. Bills 30-Y._x', 'Aaa Corp. Bond_x', 'Com. Paper 1-Mo._x', 'Treas. Bills 1-Y._x', 'LIBOR Rate 3-Mo._x', 'Baa COrp. Bond_x', 'Treas. Bills 6-Mo._x', 'Federal Funds Rate_x', 'State&Local Bonds_x', 'Home Mtg. Rate_x', 'Treas. Bills 3-Mo._x', 'Treas. Bills 2-Y._x', 'GDP Price Index_x', 'Read GDP_x', 'Treas. Bills 10-Y._x', \"Fed's Major Currency $ Index_x\"} in the result is deprecated and will raise a MergeError in a future version.\n",
            "  df1 = pd.merge(df1, df2, on=df1.columns[0], how='outer')\n"
          ]
        },
        {
          "output_type": "stream",
          "name": "stdout",
          "text": [
            "BCFF1119email.pdf Fourth Quarter 2019.xlsx\n",
            "BCFF1219email.pdf Fourth Quarter 2019.xlsx\n"
          ]
        },
        {
          "output_type": "stream",
          "name": "stderr",
          "text": [
            "<ipython-input-4-53c53cd9e278>:32: FutureWarning: Passing 'suffixes' which cause duplicate columns {'Prime Bank Rate_x', 'Treas. Bills 5-Y._x', 'Cons Price Index_x', 'Treas. Bills 30-Y._x', 'Aaa Corp. Bond_x', 'Com. Paper 1-Mo._x', 'Treas. Bills 1-Y._x', 'LIBOR Rate 3-Mo._x', 'Baa COrp. Bond_x', 'Treas. Bills 6-Mo._x', 'Federal Funds Rate_x', 'State&Local Bonds_x', 'Home Mtg. Rate_x', 'Treas. Bills 3-Mo._x', 'Treas. Bills 2-Y._x', 'GDP Price Index_x', 'Read GDP_x', 'Treas. Bills 10-Y._x', \"Fed's Major Currency $ Index_x\"} in the result is deprecated and will raise a MergeError in a future version.\n",
            "  df1 = pd.merge(df1, df2, on=df1.columns[0], how='outer')\n"
          ]
        },
        {
          "output_type": "stream",
          "name": "stdout",
          "text": [
            "BCFF0120email.pdf First Quarter 2020.xlsx\n",
            "BCFF0220email.pdf First Quarter 2020.xlsx\n",
            "BCFF0320email.pdf First Quarter 2020.xlsx\n",
            "BCFF0420email.pdf Second Quarter 2020.xlsx\n"
          ]
        },
        {
          "output_type": "stream",
          "name": "stderr",
          "text": [
            "<ipython-input-4-53c53cd9e278>:32: FutureWarning: Passing 'suffixes' which cause duplicate columns {'Prime Bank Rate_x', 'Treas. Bills 5-Y._x', 'Cons Price Index_x', 'Treas. Bills 30-Y._x', 'Aaa Corp. Bond_x', 'Com. Paper 1-Mo._x', 'Treas. Bills 1-Y._x', 'LIBOR Rate 3-Mo._x', 'Baa COrp. Bond_x', 'Treas. Bills 6-Mo._x', 'Federal Funds Rate_x', 'State&Local Bonds_x', 'Home Mtg. Rate_x', 'Treas. Bills 3-Mo._x', 'Treas. Bills 2-Y._x', 'GDP Price Index_x', 'Read GDP_x', 'Treas. Bills 10-Y._x', \"Fed's Major Currency $ Index_x\"} in the result is deprecated and will raise a MergeError in a future version.\n",
            "  df1 = pd.merge(df1, df2, on=df1.columns[0], how='outer')\n"
          ]
        },
        {
          "output_type": "stream",
          "name": "stdout",
          "text": [
            "BCFF0520email.pdf Second Quarter 2020.xlsx\n",
            "BCFF0620email.pdf Second Quarter 2020.xlsx\n"
          ]
        },
        {
          "output_type": "stream",
          "name": "stderr",
          "text": [
            "<ipython-input-4-53c53cd9e278>:32: FutureWarning: Passing 'suffixes' which cause duplicate columns {'Prime Bank Rate_x', 'Treas. Bills 5-Y._x', 'Cons Price Index_x', 'Treas. Bills 30-Y._x', 'Aaa Corp. Bond_x', 'Com. Paper 1-Mo._x', 'Treas. Bills 1-Y._x', 'LIBOR Rate 3-Mo._x', 'Baa COrp. Bond_x', 'Treas. Bills 6-Mo._x', 'Federal Funds Rate_x', 'State&Local Bonds_x', 'Home Mtg. Rate_x', 'Treas. Bills 3-Mo._x', 'Treas. Bills 2-Y._x', 'GDP Price Index_x', 'Read GDP_x', 'Treas. Bills 10-Y._x', \"Fed's Major Currency $ Index_x\"} in the result is deprecated and will raise a MergeError in a future version.\n",
            "  df1 = pd.merge(df1, df2, on=df1.columns[0], how='outer')\n"
          ]
        },
        {
          "output_type": "stream",
          "name": "stdout",
          "text": [
            "BCFF0720email.pdf Third Quarter 2020.xlsx\n",
            "BCFF0820email.pdf Third Quarter 2020.xlsx\n"
          ]
        },
        {
          "output_type": "stream",
          "name": "stderr",
          "text": [
            "<ipython-input-4-53c53cd9e278>:32: FutureWarning: Passing 'suffixes' which cause duplicate columns {'Prime Bank Rate_x', 'Treas. Bills 5-Y._x', 'Cons Price Index_x', 'Treas. Bills 30-Y._x', 'Aaa Corp. Bond_x', 'Com. Paper 1-Mo._x', 'Treas. Bills 1-Y._x', 'LIBOR Rate 3-Mo._x', 'Baa COrp. Bond_x', 'Treas. Bills 6-Mo._x', 'Federal Funds Rate_x', 'State&Local Bonds_x', 'Home Mtg. Rate_x', 'Treas. Bills 3-Mo._x', 'Treas. Bills 2-Y._x', 'GDP Price Index_x', 'Read GDP_x', 'Treas. Bills 10-Y._x', \"Fed's Major Currency $ Index_x\"} in the result is deprecated and will raise a MergeError in a future version.\n",
            "  df1 = pd.merge(df1, df2, on=df1.columns[0], how='outer')\n"
          ]
        },
        {
          "output_type": "stream",
          "name": "stdout",
          "text": [
            "BCFF0920email.pdf Third Quarter 2020.xlsx\n",
            "BCFF1020email.pdf Fourth Quarter 2020.xlsx\n"
          ]
        },
        {
          "output_type": "stream",
          "name": "stderr",
          "text": [
            "<ipython-input-4-53c53cd9e278>:32: FutureWarning: Passing 'suffixes' which cause duplicate columns {'Prime Bank Rate_x', 'Treas. Bills 5-Y._x', 'Cons Price Index_x', 'Treas. Bills 30-Y._x', 'Aaa Corp. Bond_x', 'Com. Paper 1-Mo._x', 'Treas. Bills 1-Y._x', 'LIBOR Rate 3-Mo._x', 'Baa COrp. Bond_x', 'Treas. Bills 6-Mo._x', 'Federal Funds Rate_x', 'State&Local Bonds_x', 'Home Mtg. Rate_x', 'Treas. Bills 3-Mo._x', 'Treas. Bills 2-Y._x', 'GDP Price Index_x', 'Read GDP_x', 'Treas. Bills 10-Y._x', \"Fed's Major Currency $ Index_x\"} in the result is deprecated and will raise a MergeError in a future version.\n",
            "  df1 = pd.merge(df1, df2, on=df1.columns[0], how='outer')\n"
          ]
        },
        {
          "output_type": "stream",
          "name": "stdout",
          "text": [
            "BCFF1120email.pdf Fourth Quarter 2020.xlsx\n",
            "BCFF1220email.pdf Fourth Quarter 2020.xlsx\n"
          ]
        },
        {
          "output_type": "stream",
          "name": "stderr",
          "text": [
            "<ipython-input-4-53c53cd9e278>:32: FutureWarning: Passing 'suffixes' which cause duplicate columns {'Prime Bank Rate_x', 'Treas. Bills 5-Y._x', 'Cons Price Index_x', 'Treas. Bills 30-Y._x', 'Aaa Corp. Bond_x', 'Com. Paper 1-Mo._x', 'Treas. Bills 1-Y._x', 'LIBOR Rate 3-Mo._x', 'Baa COrp. Bond_x', 'Treas. Bills 6-Mo._x', 'Federal Funds Rate_x', 'State&Local Bonds_x', 'Home Mtg. Rate_x', 'Treas. Bills 3-Mo._x', 'Treas. Bills 2-Y._x', 'GDP Price Index_x', 'Read GDP_x', 'Treas. Bills 10-Y._x', \"Fed's Major Currency $ Index_x\"} in the result is deprecated and will raise a MergeError in a future version.\n",
            "  df1 = pd.merge(df1, df2, on=df1.columns[0], how='outer')\n"
          ]
        },
        {
          "output_type": "stream",
          "name": "stdout",
          "text": [
            "BCFF0121email.pdf First Quarter 2021.xlsx\n",
            "BCFF0221email.pdf First Quarter 2021.xlsx\n",
            "BCFF0321email.pdf LIBORFirst Quarter 2021.xlsx\n",
            "BCFF0421email.pdf LIBORSecond Quarter 2021.xlsx\n"
          ]
        },
        {
          "output_type": "stream",
          "name": "stderr",
          "text": [
            "<ipython-input-4-53c53cd9e278>:32: FutureWarning: Passing 'suffixes' which cause duplicate columns {'Prime Bank Rate_x', 'Treas. Bills 5-Y._x', 'Cons Price Index_x', 'Treas. Bills 30-Y._x', 'Aaa Corp. Bond_x', 'Com. Paper 1-Mo._x', 'Treas. Bills 1-Y._x', 'LIBOR Rate 3-Mo._x', 'Baa COrp. Bond_x', 'Treas. Bills 6-Mo._x', 'Federal Funds Rate_x', 'State&Local Bonds_x', 'Home Mtg. Rate_x', 'PCE Price Index_x', 'Treas. Bills 3-Mo._x', 'Treas. Bills 2-Y._x', 'GDP Price Index_x', 'Read GDP_x', 'Treas. Bills 10-Y._x', \"Fed's Major Currency $ Index_x\"} in the result is deprecated and will raise a MergeError in a future version.\n",
            "  df1 = pd.merge(df1, df2, on=df1.columns[0], how='outer')\n"
          ]
        },
        {
          "output_type": "stream",
          "name": "stdout",
          "text": [
            "BCFF0521email.pdf LIBORSecond Quarter 2021.xlsx\n",
            "BCFF0621email.pdf LIBORSecond Quarter 2021.xlsx\n"
          ]
        },
        {
          "output_type": "stream",
          "name": "stderr",
          "text": [
            "<ipython-input-4-53c53cd9e278>:32: FutureWarning: Passing 'suffixes' which cause duplicate columns {'Prime Bank Rate_x', 'Treas. Bills 5-Y._x', 'Cons Price Index_x', 'Treas. Bills 30-Y._x', 'Aaa Corp. Bond_x', 'Com. Paper 1-Mo._x', 'Treas. Bills 1-Y._x', 'LIBOR Rate 3-Mo._x', 'Baa COrp. Bond_x', 'Treas. Bills 6-Mo._x', 'Federal Funds Rate_x', 'State&Local Bonds_x', 'Home Mtg. Rate_x', 'PCE Price Index_x', 'Treas. Bills 3-Mo._x', 'Treas. Bills 2-Y._x', 'GDP Price Index_x', 'Read GDP_x', 'Treas. Bills 10-Y._x', \"Fed's Major Currency $ Index_x\"} in the result is deprecated and will raise a MergeError in a future version.\n",
            "  df1 = pd.merge(df1, df2, on=df1.columns[0], how='outer')\n"
          ]
        },
        {
          "output_type": "stream",
          "name": "stdout",
          "text": [
            "BCFF0721email.pdf 82%Third Quarter 2021.xlsx\n",
            "BCFF0821email.pdf 72%Third Quarter 2021.xlsx\n"
          ]
        },
        {
          "output_type": "stream",
          "name": "stderr",
          "text": [
            "<ipython-input-4-53c53cd9e278>:32: FutureWarning: Passing 'suffixes' which cause duplicate columns {'Prime Bank Rate_x', 'Treas. Bills 5-Y._x', 'Cons Price Index_x', 'Treas. Bills 30-Y._x', 'Aaa Corp. Bond_x', 'Com. Paper 1-Mo._x', 'Treas. Bills 1-Y._x', 'LIBOR Rate 3-Mo._x', 'Baa COrp. Bond_x', 'Treas. Bills 6-Mo._x', 'Federal Funds Rate_x', 'State&Local Bonds_x', 'Home Mtg. Rate_x', 'PCE Price Index_x', 'Treas. Bills 3-Mo._x', 'Treas. Bills 2-Y._x', 'GDP Price Index_x', 'Read GDP_x', 'Treas. Bills 10-Y._x', \"Fed's Major Currency $ Index_x\"} in the result is deprecated and will raise a MergeError in a future version.\n",
            "  df1 = pd.merge(df1, df2, on=df1.columns[0], how='outer')\n"
          ]
        },
        {
          "output_type": "stream",
          "name": "stdout",
          "text": [
            "BCFF0921email.pdf 74%Third Quarter 2021.xlsx\n",
            "BCFF1021email.pdf LIBORFourth Quarter 2021.xlsx\n"
          ]
        },
        {
          "output_type": "stream",
          "name": "stderr",
          "text": [
            "<ipython-input-4-53c53cd9e278>:32: FutureWarning: Passing 'suffixes' which cause duplicate columns {'Prime Bank Rate_x', 'Treas. Bills 5-Y._x', 'Cons Price Index_x', 'Treas. Bills 30-Y._x', 'Aaa Corp. Bond_x', 'Com. Paper 1-Mo._x', 'Treas. Bills 1-Y._x', 'LIBOR Rate 3-Mo._x', 'Baa COrp. Bond_x', 'Treas. Bills 6-Mo._x', 'Federal Funds Rate_x', 'State&Local Bonds_x', 'Home Mtg. Rate_x', 'PCE Price Index_x', 'Treas. Bills 3-Mo._x', 'Treas. Bills 2-Y._x', 'GDP Price Index_x', 'Read GDP_x', 'Treas. Bills 10-Y._x', \"Fed's Major Currency $ Index_x\"} in the result is deprecated and will raise a MergeError in a future version.\n",
            "  df1 = pd.merge(df1, df2, on=df1.columns[0], how='outer')\n"
          ]
        },
        {
          "output_type": "stream",
          "name": "stdout",
          "text": [
            "BCFF1121email.pdf LIBORFourth Quarter 2021.xlsx\n",
            "BCFF1221email.pdf IndexFourth Quarter 2021.xlsx\n"
          ]
        },
        {
          "output_type": "stream",
          "name": "stderr",
          "text": [
            "<ipython-input-4-53c53cd9e278>:32: FutureWarning: Passing 'suffixes' which cause duplicate columns {'Prime Bank Rate_x', 'Treas. Bills 5-Y._x', 'Cons Price Index_x', 'Treas. Bills 30-Y._x', 'Aaa Corp. Bond_x', 'Com. Paper 1-Mo._x', 'Treas. Bills 1-Y._x', 'LIBOR Rate 3-Mo._x', 'Baa COrp. Bond_x', 'Treas. Bills 6-Mo._x', 'Federal Funds Rate_x', 'State&Local Bonds_x', 'Home Mtg. Rate_x', 'PCE Price Index_x', 'Treas. Bills 3-Mo._x', 'Treas. Bills 2-Y._x', 'GDP Price Index_x', 'Read GDP_x', 'Treas. Bills 10-Y._x', \"Fed's Major Currency $ Index_x\"} in the result is deprecated and will raise a MergeError in a future version.\n",
            "  df1 = pd.merge(df1, df2, on=df1.columns[0], how='outer')\n"
          ]
        }
      ]
    }
  ]
}